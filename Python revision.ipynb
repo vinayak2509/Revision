{
 "cells": [
  {
   "cell_type": "code",
   "execution_count": 1,
   "id": "f4b1c326-2787-4112-9b6e-181d6b234257",
   "metadata": {},
   "outputs": [
    {
     "name": "stdout",
     "output_type": "stream",
     "text": [
      "Hello World\n"
     ]
    }
   ],
   "source": [
    "print(\"Hello World\")"
   ]
  },
  {
   "cell_type": "markdown",
   "id": "32f3120c-b998-4abe-a3d7-2b3d5a7e2e1b",
   "metadata": {},
   "source": [
    "# Variables"
   ]
  },
  {
   "cell_type": "code",
   "execution_count": 8,
   "id": "b156df6a-8782-420a-b6d4-1ddfaa8e4732",
   "metadata": {},
   "outputs": [],
   "source": [
    "x=3"
   ]
  },
  {
   "cell_type": "code",
   "execution_count": 10,
   "id": "5546d40a-0d17-4a23-bddc-2977cef4bfb3",
   "metadata": {},
   "outputs": [
    {
     "name": "stdout",
     "output_type": "stream",
     "text": [
      "Variable               Type        Data/Info\n",
      "--------------------------------------------\n",
      "dataframe_columns      function    <function dataframe_colum<...>ns at 0x0000021CE072F4C0>\n",
      "dataframe_hash         function    <function dataframe_hash at 0x0000021CDF066F20>\n",
      "dtypes_str             function    <function dtypes_str at 0x0000021CE072F740>\n",
      "get_dataframes         function    <function get_dataframes at 0x0000021CDF067060>\n",
      "getpass                module      <module 'getpass' from 'C<...>conda3\\\\Lib\\\\getpass.py'>\n",
      "hashlib                module      <module 'hashlib' from 'C<...>conda3\\\\Lib\\\\hashlib.py'>\n",
      "import_pandas_safely   function    <function import_pandas_s<...>ly at 0x0000021CDF066840>\n",
      "is_data_frame          function    <function is_data_frame at 0x0000021CDF066CA0>\n",
      "json                   module      <module 'json' from 'C:\\\\<...>\\Lib\\\\json\\\\__init__.py'>\n",
      "x                      int         3\n",
      "xy                     float       7.2\n",
      "y                      int         5\n"
     ]
    }
   ],
   "source": [
    "%whos"
   ]
  },
  {
   "cell_type": "code",
   "execution_count": 12,
   "id": "84c440f8-729a-442f-94d8-e05621859cc7",
   "metadata": {},
   "outputs": [
    {
     "name": "stdout",
     "output_type": "stream",
     "text": [
      "<class 'int'>\n"
     ]
    }
   ],
   "source": [
    "print(type(x))"
   ]
  },
  {
   "cell_type": "code",
   "execution_count": 14,
   "id": "e2f0b92b-70d6-4115-87af-c2924d65c64b",
   "metadata": {},
   "outputs": [],
   "source": [
    "x=5.7"
   ]
  },
  {
   "cell_type": "code",
   "execution_count": 16,
   "id": "40426e46-77a7-45bb-bfeb-f80a45eefdf5",
   "metadata": {},
   "outputs": [
    {
     "name": "stdout",
     "output_type": "stream",
     "text": [
      "<class 'float'>\n"
     ]
    }
   ],
   "source": [
    "print(type(x))"
   ]
  },
  {
   "cell_type": "code",
   "execution_count": 18,
   "id": "a903cc2d-b0d6-4001-b436-02d87a4056d2",
   "metadata": {},
   "outputs": [],
   "source": [
    "abcd=556"
   ]
  },
  {
   "cell_type": "code",
   "execution_count": 45,
   "id": "a01988df-1c31-4873-9aa2-6c7dfb8b9b02",
   "metadata": {},
   "outputs": [],
   "source": [
    "a,b,c,d,e=1,2,3,4.5,5"
   ]
  },
  {
   "cell_type": "code",
   "execution_count": 22,
   "id": "35a9d44d-979d-4764-bdcb-2dfd9fc6273d",
   "metadata": {},
   "outputs": [
    {
     "name": "stdout",
     "output_type": "stream",
     "text": [
      "Variable               Type        Data/Info\n",
      "--------------------------------------------\n",
      "a                      int         1\n",
      "abcd                   int         556\n",
      "b                      int         2\n",
      "c                      int         3\n",
      "d                      int         4\n",
      "dataframe_columns      function    <function dataframe_colum<...>ns at 0x0000021CDF066CA0>\n",
      "dataframe_hash         function    <function dataframe_hash at 0x0000021CE072F920>\n",
      "dtypes_str             function    <function dtypes_str at 0x0000021CE072F2E0>\n",
      "e                      int         5\n",
      "get_dataframes         function    <function get_dataframes at 0x0000021CE072F380>\n",
      "getpass                module      <module 'getpass' from 'C<...>conda3\\\\Lib\\\\getpass.py'>\n",
      "hashlib                module      <module 'hashlib' from 'C<...>conda3\\\\Lib\\\\hashlib.py'>\n",
      "import_pandas_safely   function    <function import_pandas_s<...>ly at 0x0000021CDF066520>\n",
      "is_data_frame          function    <function is_data_frame at 0x0000021CDF067060>\n",
      "json                   module      <module 'json' from 'C:\\\\<...>\\Lib\\\\json\\\\__init__.py'>\n",
      "x                      float       5.7\n",
      "xy                     float       7.2\n",
      "y                      int         5\n"
     ]
    }
   ],
   "source": [
    "%whos\n"
   ]
  },
  {
   "cell_type": "code",
   "execution_count": 24,
   "id": "6ac12c87-9c78-467a-b4d8-dec32110d63e",
   "metadata": {},
   "outputs": [],
   "source": [
    "del xy"
   ]
  },
  {
   "cell_type": "code",
   "execution_count": 26,
   "id": "0716b4d1-f976-407e-98a8-c75ed9cd6dd6",
   "metadata": {},
   "outputs": [
    {
     "ename": "NameError",
     "evalue": "name 'xy' is not defined",
     "output_type": "error",
     "traceback": [
      "\u001b[1;31m---------------------------------------------------------------------------\u001b[0m",
      "\u001b[1;31mNameError\u001b[0m                                 Traceback (most recent call last)",
      "Cell \u001b[1;32mIn[26], line 1\u001b[0m\n\u001b[1;32m----> 1\u001b[0m \u001b[38;5;28mprint\u001b[39m(xy)\n",
      "\u001b[1;31mNameError\u001b[0m: name 'xy' is not defined"
     ]
    }
   ],
   "source": [
    "print(xy)"
   ]
  },
  {
   "cell_type": "code",
   "execution_count": 28,
   "id": "0983b196-c004-402a-abaf-f4bf826ca148",
   "metadata": {},
   "outputs": [],
   "source": [
    "c=2+4j"
   ]
  },
  {
   "cell_type": "code",
   "execution_count": 30,
   "id": "51cbc713-104b-4da8-aa2e-39ad398ea5f1",
   "metadata": {},
   "outputs": [
    {
     "name": "stdout",
     "output_type": "stream",
     "text": [
      "<class 'complex'>\n"
     ]
    }
   ],
   "source": [
    "print(type(c))"
   ]
  },
  {
   "cell_type": "code",
   "execution_count": 32,
   "id": "ac3e4638-9e67-47a8-bf1a-a921ce030a0e",
   "metadata": {},
   "outputs": [],
   "source": [
    "s=\"hello how are you\""
   ]
  },
  {
   "cell_type": "code",
   "execution_count": 34,
   "id": "285ae042-c36c-41a4-a55c-056470e79f5a",
   "metadata": {},
   "outputs": [
    {
     "name": "stdout",
     "output_type": "stream",
     "text": [
      "<class 'str'>\n"
     ]
    }
   ],
   "source": [
    "print(type(s))"
   ]
  },
  {
   "cell_type": "markdown",
   "id": "94175353-e9a2-489c-ae62-beefcce99005",
   "metadata": {},
   "source": [
    "# Operators"
   ]
  },
  {
   "cell_type": "code",
   "execution_count": 37,
   "id": "9982ff67-2a7f-42a1-bd5f-749364001161",
   "metadata": {},
   "outputs": [
    {
     "name": "stdout",
     "output_type": "stream",
     "text": [
      "Variable               Type        Data/Info\n",
      "--------------------------------------------\n",
      "a                      int         1\n",
      "abcd                   int         556\n",
      "b                      int         2\n",
      "c                      complex     (2+4j)\n",
      "d                      int         4\n",
      "dataframe_columns      function    <function dataframe_colum<...>ns at 0x0000021CDF066E80>\n",
      "dataframe_hash         function    <function dataframe_hash at 0x0000021CDF066980>\n",
      "dtypes_str             function    <function dtypes_str at 0x0000021CDF067060>\n",
      "e                      int         5\n",
      "get_dataframes         function    <function get_dataframes at 0x0000021CDF066DE0>\n",
      "getpass                module      <module 'getpass' from 'C<...>conda3\\\\Lib\\\\getpass.py'>\n",
      "hashlib                module      <module 'hashlib' from 'C<...>conda3\\\\Lib\\\\hashlib.py'>\n",
      "import_pandas_safely   function    <function import_pandas_s<...>ly at 0x0000021CDF066D40>\n",
      "is_data_frame          function    <function is_data_frame at 0x0000021CDF066CA0>\n",
      "json                   module      <module 'json' from 'C:\\\\<...>\\Lib\\\\json\\\\__init__.py'>\n",
      "s                      str         hello how are you\n",
      "x                      float       5.7\n",
      "y                      int         5\n"
     ]
    }
   ],
   "source": [
    "%whos"
   ]
  },
  {
   "cell_type": "code",
   "execution_count": 39,
   "id": "bca082f2-010b-41b1-9061-30705062b1f8",
   "metadata": {},
   "outputs": [],
   "source": [
    "sumOfAandB=a+b"
   ]
  },
  {
   "cell_type": "code",
   "execution_count": 41,
   "id": "e898a546-f9f7-48ea-bec5-be516f883ed1",
   "metadata": {},
   "outputs": [
    {
     "name": "stdout",
     "output_type": "stream",
     "text": [
      "3\n"
     ]
    }
   ],
   "source": [
    "print(sumOfAandB)"
   ]
  },
  {
   "cell_type": "code",
   "execution_count": 43,
   "id": "e31d2d18-be02-415a-b807-90efa578957f",
   "metadata": {},
   "outputs": [
    {
     "data": {
      "text/plain": [
       "int"
      ]
     },
     "execution_count": 43,
     "metadata": {},
     "output_type": "execute_result"
    }
   ],
   "source": [
    "type(sumOfAandB)"
   ]
  },
  {
   "cell_type": "code",
   "execution_count": 47,
   "id": "fe70b73e-cc94-4833-b2d5-89a157c15333",
   "metadata": {},
   "outputs": [
    {
     "data": {
      "text/plain": [
       "float"
      ]
     },
     "execution_count": 47,
     "metadata": {},
     "output_type": "execute_result"
    }
   ],
   "source": [
    "type(a+d)"
   ]
  },
  {
   "cell_type": "code",
   "execution_count": 51,
   "id": "4646cf47-abc6-4c95-90aa-09d2e9b03c3f",
   "metadata": {},
   "outputs": [],
   "source": [
    "v=((a+d)**3)/4"
   ]
  },
  {
   "cell_type": "code",
   "execution_count": 53,
   "id": "8cf7acc2-0d0c-4f71-8cf7-2fb83cba1ed5",
   "metadata": {},
   "outputs": [
    {
     "name": "stdout",
     "output_type": "stream",
     "text": [
      "41.59375\n"
     ]
    }
   ],
   "source": [
    "print(v)"
   ]
  },
  {
   "cell_type": "code",
   "execution_count": 59,
   "id": "97d08aea-018b-4766-b1c2-2d598775e898",
   "metadata": {},
   "outputs": [],
   "source": [
    "s1=\"hello\"\n",
    "s2=\"world\"\n",
    "s=s1+s2"
   ]
  },
  {
   "cell_type": "code",
   "execution_count": 61,
   "id": "dc78f49d-42e2-485e-b1b3-bbf3f9e5f2a4",
   "metadata": {},
   "outputs": [
    {
     "name": "stdout",
     "output_type": "stream",
     "text": [
      "helloworld\n"
     ]
    }
   ],
   "source": [
    "print(s)"
   ]
  },
  {
   "cell_type": "markdown",
   "id": "7cd49644-a92f-44d2-b4c6-0cd2389044eb",
   "metadata": {},
   "source": [
    "# Boolean"
   ]
  },
  {
   "cell_type": "code",
   "execution_count": 72,
   "id": "e58d9388-5ff9-45e9-a80c-dcf82fb7e54b",
   "metadata": {},
   "outputs": [],
   "source": [
    "a=True\n",
    "b=True\n",
    "c=False"
   ]
  },
  {
   "cell_type": "code",
   "execution_count": 74,
   "id": "8611f614-3d87-4313-b386-425bb2656884",
   "metadata": {},
   "outputs": [
    {
     "name": "stdout",
     "output_type": "stream",
     "text": [
      "Variable               Type        Data/Info\n",
      "--------------------------------------------\n",
      "a                      bool        True\n",
      "abcd                   int         556\n",
      "b                      bool        True\n",
      "c                      bool        False\n",
      "d                      float       4.5\n",
      "dataframe_columns      function    <function dataframe_colum<...>ns at 0x0000021CE2643EC0>\n",
      "dataframe_hash         function    <function dataframe_hash at 0x0000021CE2643600>\n",
      "dtypes_str             function    <function dtypes_str at 0x0000021CE0721580>\n",
      "e                      int         5\n",
      "get_dataframes         function    <function get_dataframes at 0x0000021CE2641EE0>\n",
      "getpass                module      <module 'getpass' from 'C<...>conda3\\\\Lib\\\\getpass.py'>\n",
      "hashlib                module      <module 'hashlib' from 'C<...>conda3\\\\Lib\\\\hashlib.py'>\n",
      "import_pandas_safely   function    <function import_pandas_s<...>ly at 0x0000021CE2640AE0>\n",
      "is_data_frame          function    <function is_data_frame at 0x0000021CE2643D80>\n",
      "json                   module      <module 'json' from 'C:\\\\<...>\\Lib\\\\json\\\\__init__.py'>\n",
      "s                      str         helloworld\n",
      "s1                     str         hello\n",
      "s2                     str         world\n",
      "sumOfAandB             int         3\n",
      "v                      float       41.59375\n",
      "x                      float       5.7\n",
      "y                      int         5\n"
     ]
    }
   ],
   "source": [
    "%whos"
   ]
  },
  {
   "cell_type": "code",
   "execution_count": 76,
   "id": "c6790d0f-9c59-49e8-aea5-d7a9cdefff75",
   "metadata": {},
   "outputs": [
    {
     "name": "stdout",
     "output_type": "stream",
     "text": [
      "True\n",
      "False\n",
      "False\n"
     ]
    }
   ],
   "source": [
    "print(a and b)\n",
    "print(a and c)\n",
    "print(c and a)"
   ]
  },
  {
   "cell_type": "code",
   "execution_count": 80,
   "id": "4b017744-1aeb-4488-b5e9-b93f1e286902",
   "metadata": {},
   "outputs": [
    {
     "name": "stdout",
     "output_type": "stream",
     "text": [
      "True\n"
     ]
    }
   ],
   "source": [
    "d=a or c\n",
    "print(d)"
   ]
  },
  {
   "cell_type": "code",
   "execution_count": 82,
   "id": "11f7919d-bd65-45b7-94b8-9ec6d7189bf3",
   "metadata": {},
   "outputs": [
    {
     "data": {
      "text/plain": [
       "False"
      ]
     },
     "execution_count": 82,
     "metadata": {},
     "output_type": "execute_result"
    }
   ],
   "source": [
    "not(a)"
   ]
  },
  {
   "cell_type": "code",
   "execution_count": 84,
   "id": "b55c87c9-ade4-4cef-a104-403c88bb2cdb",
   "metadata": {},
   "outputs": [
    {
     "data": {
      "text/plain": [
       "True"
      ]
     },
     "execution_count": 84,
     "metadata": {},
     "output_type": "execute_result"
    }
   ],
   "source": [
    "not(c)"
   ]
  },
  {
   "cell_type": "code",
   "execution_count": 86,
   "id": "e706c197-bc2f-44d9-81e2-19dcc2ff778e",
   "metadata": {},
   "outputs": [],
   "source": [
    "t=not(d)"
   ]
  },
  {
   "cell_type": "code",
   "execution_count": 88,
   "id": "111ad080-4f40-4c12-a491-3887da4a17c0",
   "metadata": {},
   "outputs": [
    {
     "data": {
      "text/plain": [
       "bool"
      ]
     },
     "execution_count": 88,
     "metadata": {},
     "output_type": "execute_result"
    }
   ],
   "source": [
    "type(t)"
   ]
  },
  {
   "cell_type": "code",
   "execution_count": 90,
   "id": "7335101f-547d-4464-8c6b-75f899b6a5fd",
   "metadata": {},
   "outputs": [
    {
     "name": "stdout",
     "output_type": "stream",
     "text": [
      "False\n"
     ]
    }
   ],
   "source": [
    "print(t)"
   ]
  },
  {
   "cell_type": "code",
   "execution_count": 92,
   "id": "8fe31fc5-c693-4ba2-92e7-a544e3181501",
   "metadata": {},
   "outputs": [
    {
     "data": {
      "text/plain": [
       "False"
      ]
     },
     "execution_count": 92,
     "metadata": {},
     "output_type": "execute_result"
    }
   ],
   "source": [
    "not((a and b) or (c and d))"
   ]
  },
  {
   "cell_type": "markdown",
   "id": "1a75f361-7d1a-49cc-beb1-749b70668752",
   "metadata": {},
   "source": [
    "# Comparisons"
   ]
  },
  {
   "cell_type": "code",
   "execution_count": 95,
   "id": "8dbf547f-244e-48d2-a268-222e2596ccf7",
   "metadata": {},
   "outputs": [
    {
     "name": "stdout",
     "output_type": "stream",
     "text": [
      "True\n"
     ]
    }
   ],
   "source": [
    "print(2<3)"
   ]
  },
  {
   "cell_type": "code",
   "execution_count": 101,
   "id": "89280415-6c58-4627-8d98-51853cd41ad5",
   "metadata": {},
   "outputs": [
    {
     "name": "stdout",
     "output_type": "stream",
     "text": [
      "<class 'bool'>\n"
     ]
    }
   ],
   "source": [
    "c= 2<3\n",
    "print(type(c))"
   ]
  },
  {
   "cell_type": "code",
   "execution_count": 105,
   "id": "4d3700c1-7cbe-4bfd-819f-8bcc8b2ef6c2",
   "metadata": {},
   "outputs": [],
   "source": [
    "d= 3==4"
   ]
  },
  {
   "cell_type": "code",
   "execution_count": 107,
   "id": "774a08bc-63a7-4c19-af59-c4a1f919046a",
   "metadata": {},
   "outputs": [
    {
     "name": "stdout",
     "output_type": "stream",
     "text": [
      "False\n"
     ]
    }
   ],
   "source": [
    "print(d)"
   ]
  },
  {
   "cell_type": "code",
   "execution_count": 109,
   "id": "45828f16-f2a9-4ef5-9319-e85e23e4ded7",
   "metadata": {},
   "outputs": [
    {
     "data": {
      "text/plain": [
       "True"
      ]
     },
     "execution_count": 109,
     "metadata": {},
     "output_type": "execute_result"
    }
   ],
   "source": [
    "3==3.0"
   ]
  },
  {
   "cell_type": "code",
   "execution_count": 113,
   "id": "4b7e5cca-5c35-491b-b76b-6a38104bf156",
   "metadata": {},
   "outputs": [],
   "source": [
    "x=4\n",
    "y=9\n",
    "z=8.3\n",
    "r=-3"
   ]
  },
  {
   "cell_type": "code",
   "execution_count": 125,
   "id": "7e3b1e0b-75c4-4eb0-90ca-2aaf2a023ad7",
   "metadata": {},
   "outputs": [
    {
     "data": {
      "text/plain": [
       "True"
      ]
     },
     "execution_count": 125,
     "metadata": {},
     "output_type": "execute_result"
    }
   ],
   "source": [
    "(x<y) and (z<y) or (r==x)"
   ]
  },
  {
   "cell_type": "code",
   "execution_count": 127,
   "id": "1582c118-9c31-44f3-b4e4-11a92d2ee8ee",
   "metadata": {},
   "outputs": [
    {
     "data": {
      "text/plain": [
       "False"
      ]
     },
     "execution_count": 127,
     "metadata": {},
     "output_type": "execute_result"
    }
   ],
   "source": [
    "(r==x) and (x<y) or (z>y)"
   ]
  },
  {
   "cell_type": "code",
   "execution_count": 129,
   "id": "42fe67fb-308c-4308-9cdd-ce7340d6854a",
   "metadata": {},
   "outputs": [
    {
     "data": {
      "text/plain": [
       "True"
      ]
     },
     "execution_count": 129,
     "metadata": {},
     "output_type": "execute_result"
    }
   ],
   "source": [
    "False and False or True"
   ]
  },
  {
   "cell_type": "code",
   "execution_count": 131,
   "id": "ee988976-61a7-47fa-bc73-219038f1207b",
   "metadata": {},
   "outputs": [
    {
     "data": {
      "text/plain": [
       "False"
      ]
     },
     "execution_count": 131,
     "metadata": {},
     "output_type": "execute_result"
    }
   ],
   "source": [
    "False and (False or True)"
   ]
  },
  {
   "cell_type": "markdown",
   "id": "b259d2f2-d51a-4fb9-bd34-d457eb2723eb",
   "metadata": {},
   "source": [
    "# Usefull Functions"
   ]
  },
  {
   "cell_type": "code",
   "execution_count": 134,
   "id": "0fb75d9f-ce0e-4ddd-bcdf-2d7a7b8116ac",
   "metadata": {},
   "outputs": [
    {
     "name": "stdout",
     "output_type": "stream",
     "text": [
      "5\n"
     ]
    }
   ],
   "source": [
    "print(round(4.565))"
   ]
  },
  {
   "cell_type": "code",
   "execution_count": 136,
   "id": "453aeec6-dbb2-4cda-8d79-c4f64b123845",
   "metadata": {},
   "outputs": [
    {
     "name": "stdout",
     "output_type": "stream",
     "text": [
      "4\n"
     ]
    }
   ],
   "source": [
    "print(round(4.342))"
   ]
  },
  {
   "cell_type": "code",
   "execution_count": 140,
   "id": "9d1173c2-ebe1-41f6-8dae-a05938472fb8",
   "metadata": {},
   "outputs": [
    {
     "name": "stdout",
     "output_type": "stream",
     "text": [
      "4.57\n"
     ]
    }
   ],
   "source": [
    "print(round(4.567356,2))"
   ]
  },
  {
   "cell_type": "code",
   "execution_count": 144,
   "id": "e9750edb-352e-411a-819a-28581f1df9f0",
   "metadata": {},
   "outputs": [
    {
     "data": {
      "text/plain": [
       "(6, 2)"
      ]
     },
     "execution_count": 144,
     "metadata": {},
     "output_type": "execute_result"
    }
   ],
   "source": [
    "divmod(32,5)"
   ]
  },
  {
   "cell_type": "code",
   "execution_count": 146,
   "id": "66dabe8d-e479-43a7-97ec-b6856ae6e5e4",
   "metadata": {},
   "outputs": [],
   "source": [
    "G=divmod(34,9)"
   ]
  },
  {
   "cell_type": "code",
   "execution_count": 148,
   "id": "56200029-0afd-45f7-8f0f-53d5cf909bc3",
   "metadata": {},
   "outputs": [
    {
     "data": {
      "text/plain": [
       "tuple"
      ]
     },
     "execution_count": 148,
     "metadata": {},
     "output_type": "execute_result"
    }
   ],
   "source": [
    "type(G)"
   ]
  },
  {
   "cell_type": "code",
   "execution_count": 150,
   "id": "6f1a754f-f72a-4ad4-8f5f-b71d1f18381c",
   "metadata": {},
   "outputs": [
    {
     "name": "stdout",
     "output_type": "stream",
     "text": [
      "(3, 7)\n"
     ]
    }
   ],
   "source": [
    "print(G)"
   ]
  },
  {
   "cell_type": "code",
   "execution_count": 152,
   "id": "f9c86e3b-aac9-4d1b-a5df-46d5257e41bf",
   "metadata": {},
   "outputs": [
    {
     "data": {
      "text/plain": [
       "3"
      ]
     },
     "execution_count": 152,
     "metadata": {},
     "output_type": "execute_result"
    }
   ],
   "source": [
    "G[0]"
   ]
  },
  {
   "cell_type": "code",
   "execution_count": 154,
   "id": "c058c14f-c0d6-4fb9-9619-4ce818f5de73",
   "metadata": {},
   "outputs": [
    {
     "data": {
      "text/plain": [
       "7"
      ]
     },
     "execution_count": 154,
     "metadata": {},
     "output_type": "execute_result"
    }
   ],
   "source": [
    "G[1]"
   ]
  },
  {
   "cell_type": "code",
   "execution_count": 156,
   "id": "6e092a66-3aab-41b9-87e7-f9eaa7af5b0d",
   "metadata": {},
   "outputs": [
    {
     "data": {
      "text/plain": [
       "3"
      ]
     },
     "execution_count": 156,
     "metadata": {},
     "output_type": "execute_result"
    }
   ],
   "source": [
    "34//9"
   ]
  },
  {
   "cell_type": "code",
   "execution_count": 158,
   "id": "061b5158-5a48-41a3-ae16-a5f1bd3cb588",
   "metadata": {},
   "outputs": [
    {
     "data": {
      "text/plain": [
       "7"
      ]
     },
     "execution_count": 158,
     "metadata": {},
     "output_type": "execute_result"
    }
   ],
   "source": [
    "34%9"
   ]
  },
  {
   "cell_type": "code",
   "execution_count": 160,
   "id": "6a88c5b3-65ce-4ffc-9208-a2ac6ff09b0c",
   "metadata": {},
   "outputs": [
    {
     "data": {
      "text/plain": [
       "True"
      ]
     },
     "execution_count": 160,
     "metadata": {},
     "output_type": "execute_result"
    }
   ],
   "source": [
    "isinstance(3,int)"
   ]
  },
  {
   "cell_type": "code",
   "execution_count": 162,
   "id": "a8f0b0db-0785-410c-962e-aff0a4d7d79f",
   "metadata": {},
   "outputs": [
    {
     "data": {
      "text/plain": [
       "False"
      ]
     },
     "execution_count": 162,
     "metadata": {},
     "output_type": "execute_result"
    }
   ],
   "source": [
    "\n",
    "isinstance(3.4,int)"
   ]
  },
  {
   "cell_type": "code",
   "execution_count": 168,
   "id": "df9e45e9-9328-4b8a-84c9-07b7a8d559b6",
   "metadata": {},
   "outputs": [
    {
     "data": {
      "text/plain": [
       "True"
      ]
     },
     "execution_count": 168,
     "metadata": {},
     "output_type": "execute_result"
    }
   ],
   "source": [
    "isinstance(3.4,float)"
   ]
  },
  {
   "cell_type": "code",
   "execution_count": 170,
   "id": "e6c4fb00-9c85-4b51-bbe1-e318b8c91d25",
   "metadata": {},
   "outputs": [
    {
     "data": {
      "text/plain": [
       "True"
      ]
     },
     "execution_count": 170,
     "metadata": {},
     "output_type": "execute_result"
    }
   ],
   "source": [
    "isinstance(3.4,(float,int))"
   ]
  },
  {
   "cell_type": "code",
   "execution_count": 172,
   "id": "a737e450-5b47-4f92-990a-0c35785d82c2",
   "metadata": {},
   "outputs": [
    {
     "data": {
      "text/plain": [
       "True"
      ]
     },
     "execution_count": 172,
     "metadata": {},
     "output_type": "execute_result"
    }
   ],
   "source": [
    "isinstance(2+3j,(float,int,complex))"
   ]
  },
  {
   "cell_type": "code",
   "execution_count": 174,
   "id": "e2001196-4089-4c33-b161-e40909304749",
   "metadata": {},
   "outputs": [
    {
     "data": {
      "text/plain": [
       "8"
      ]
     },
     "execution_count": 174,
     "metadata": {},
     "output_type": "execute_result"
    }
   ],
   "source": [
    "pow(2,3)"
   ]
  },
  {
   "cell_type": "code",
   "execution_count": 176,
   "id": "c08eefe3-3fd3-48ab-ad6c-1b277c3c111f",
   "metadata": {},
   "outputs": [
    {
     "data": {
      "text/plain": [
       "8"
      ]
     },
     "execution_count": 176,
     "metadata": {},
     "output_type": "execute_result"
    }
   ],
   "source": [
    "2**3"
   ]
  },
  {
   "cell_type": "code",
   "execution_count": 178,
   "id": "d825a9e7-da5b-4948-8360-6eee26768898",
   "metadata": {},
   "outputs": [
    {
     "data": {
      "text/plain": [
       "2"
      ]
     },
     "execution_count": 178,
     "metadata": {},
     "output_type": "execute_result"
    }
   ],
   "source": [
    "pow(2,4,7)"
   ]
  },
  {
   "cell_type": "code",
   "execution_count": 180,
   "id": "24101d71-a14a-4d8d-85ff-a41d4ecffd48",
   "metadata": {},
   "outputs": [
    {
     "data": {
      "text/plain": [
       "2"
      ]
     },
     "execution_count": 180,
     "metadata": {},
     "output_type": "execute_result"
    }
   ],
   "source": [
    "(2**4)%7"
   ]
  },
  {
   "cell_type": "code",
   "execution_count": 187,
   "id": "17bee273-6a26-4d73-82d7-adc0a89a32b5",
   "metadata": {},
   "outputs": [
    {
     "name": "stdout",
     "output_type": "stream",
     "text": [
      "Enter a number : 56\n"
     ]
    }
   ],
   "source": [
    "x=input(\"Enter a number :\")"
   ]
  },
  {
   "cell_type": "code",
   "execution_count": 189,
   "id": "e3d5a593-53fc-4c21-84d2-9badd85e1f7c",
   "metadata": {},
   "outputs": [
    {
     "data": {
      "text/plain": [
       "str"
      ]
     },
     "execution_count": 189,
     "metadata": {},
     "output_type": "execute_result"
    }
   ],
   "source": [
    "type(x)"
   ]
  },
  {
   "cell_type": "code",
   "execution_count": 191,
   "id": "a482adfe-9503-4b6b-97b0-f0a909b0a317",
   "metadata": {},
   "outputs": [],
   "source": [
    "x=int(x)"
   ]
  },
  {
   "cell_type": "code",
   "execution_count": 193,
   "id": "e5d463b9-9827-495b-9c7c-7473506a845c",
   "metadata": {},
   "outputs": [
    {
     "data": {
      "text/plain": [
       "int"
      ]
     },
     "execution_count": 193,
     "metadata": {},
     "output_type": "execute_result"
    }
   ],
   "source": [
    "type(x)"
   ]
  },
  {
   "cell_type": "code",
   "execution_count": 195,
   "id": "fa2d0289-3b5c-46f1-ad02-40e07ddb922d",
   "metadata": {},
   "outputs": [
    {
     "name": "stdout",
     "output_type": "stream",
     "text": [
      "22\n"
     ]
    }
   ],
   "source": [
    "print(x-34)"
   ]
  },
  {
   "cell_type": "code",
   "execution_count": 197,
   "id": "e0dcaaa4-8f31-49a3-8ce7-dc7758857c70",
   "metadata": {},
   "outputs": [
    {
     "name": "stdout",
     "output_type": "stream",
     "text": [
      "Enter a Real Number 2.3\n"
     ]
    }
   ],
   "source": [
    "a= float(input(\"Enter a Real Number\"))"
   ]
  },
  {
   "cell_type": "code",
   "execution_count": 199,
   "id": "eb9bdee2-4327-4825-868b-e8ff112d78a6",
   "metadata": {},
   "outputs": [
    {
     "data": {
      "text/plain": [
       "float"
      ]
     },
     "execution_count": 199,
     "metadata": {},
     "output_type": "execute_result"
    }
   ],
   "source": [
    "type(a)"
   ]
  },
  {
   "cell_type": "code",
   "execution_count": 201,
   "id": "e4d2fc24-0526-47e4-a3d0-21ff04424004",
   "metadata": {},
   "outputs": [
    {
     "name": "stdout",
     "output_type": "stream",
     "text": [
      "Enter a Real Number avd\n"
     ]
    },
    {
     "ename": "ValueError",
     "evalue": "could not convert string to float: 'avd'",
     "output_type": "error",
     "traceback": [
      "\u001b[1;31m---------------------------------------------------------------------------\u001b[0m",
      "\u001b[1;31mValueError\u001b[0m                                Traceback (most recent call last)",
      "Cell \u001b[1;32mIn[201], line 1\u001b[0m\n\u001b[1;32m----> 1\u001b[0m a\u001b[38;5;241m=\u001b[39m \u001b[38;5;28mfloat\u001b[39m(\u001b[38;5;28minput\u001b[39m(\u001b[38;5;124m\"\u001b[39m\u001b[38;5;124mEnter a Real Number\u001b[39m\u001b[38;5;124m\"\u001b[39m))\n",
      "\u001b[1;31mValueError\u001b[0m: could not convert string to float: 'avd'"
     ]
    }
   ],
   "source": [
    "a= float(input(\"Enter a Real Number\"))"
   ]
  },
  {
   "cell_type": "code",
   "execution_count": 203,
   "id": "20c07037-89b9-46cd-abc7-1701ecf79c57",
   "metadata": {},
   "outputs": [
    {
     "data": {
      "text/plain": [
       "\u001b[1;31mSignature:\u001b[0m \u001b[0mpow\u001b[0m\u001b[1;33m(\u001b[0m\u001b[0mbase\u001b[0m\u001b[1;33m,\u001b[0m \u001b[0mexp\u001b[0m\u001b[1;33m,\u001b[0m \u001b[0mmod\u001b[0m\u001b[1;33m=\u001b[0m\u001b[1;32mNone\u001b[0m\u001b[1;33m)\u001b[0m\u001b[1;33m\u001b[0m\u001b[1;33m\u001b[0m\u001b[0m\n",
       "\u001b[1;31mDocstring:\u001b[0m\n",
       "Equivalent to base**exp with 2 arguments or base**exp % mod with 3 arguments\n",
       "\n",
       "Some types, such as ints, are able to use a more efficient algorithm when\n",
       "invoked using the three argument form.\n",
       "\u001b[1;31mType:\u001b[0m      builtin_function_or_method"
      ]
     },
     "metadata": {},
     "output_type": "display_data"
    }
   ],
   "source": [
    "pow?"
   ]
  },
  {
   "cell_type": "code",
   "execution_count": 205,
   "id": "6a52baab-699f-4ee1-9a43-dcfb68be5541",
   "metadata": {},
   "outputs": [
    {
     "name": "stdout",
     "output_type": "stream",
     "text": [
      "Help on built-in function pow in module builtins:\n",
      "\n",
      "pow(base, exp, mod=None)\n",
      "    Equivalent to base**exp with 2 arguments or base**exp % mod with 3 arguments\n",
      "\n",
      "    Some types, such as ints, are able to use a more efficient algorithm when\n",
      "    invoked using the three argument form.\n",
      "\n"
     ]
    }
   ],
   "source": [
    "help(pow)"
   ]
  },
  {
   "cell_type": "markdown",
   "id": "b034fbac-70e5-4b58-983b-0dd1f7c7daab",
   "metadata": {},
   "source": [
    "# Control Flow (if, if-else, if-elif-else condition)"
   ]
  },
  {
   "cell_type": "code",
   "execution_count": 7,
   "id": "67201032-6a39-41bc-b5f3-fe1329a6dab8",
   "metadata": {},
   "outputs": [
    {
     "name": "stdout",
     "output_type": "stream",
     "text": [
      " 12\n",
      " 10\n",
      "12\n"
     ]
    }
   ],
   "source": [
    "a=int(input())\n",
    "b=int(input())\n",
    "if(a>b):\n",
    "      print(a)"
   ]
  },
  {
   "cell_type": "code",
   "execution_count": 9,
   "id": "55e08415-39e0-4daa-ad7d-6bde3b561731",
   "metadata": {},
   "outputs": [
    {
     "name": "stdout",
     "output_type": "stream",
     "text": [
      " 22\n",
      " 4\n",
      "22\n"
     ]
    }
   ],
   "source": [
    "a=int(input())\n",
    "b=int(input())\n",
    "if(a>b):\n",
    "      print(a)\n",
    "if(b>a):\n",
    "    print(b)"
   ]
  },
  {
   "cell_type": "code",
   "execution_count": 17,
   "id": "5b5a357a-82e6-4534-bc10-a31032222456",
   "metadata": {},
   "outputs": [
    {
     "name": "stdout",
     "output_type": "stream",
     "text": [
      " 10\n",
      " 10\n",
      "10\n"
     ]
    }
   ],
   "source": [
    "a=int(input())\n",
    "b=int(input())\n",
    "if(a>b):\n",
    "      print(a)\n",
    "else:\n",
    "    print(b)"
   ]
  },
  {
   "cell_type": "code",
   "execution_count": 19,
   "id": "d9d48bf7-c629-45b8-9814-df06c3054705",
   "metadata": {},
   "outputs": [
    {
     "name": "stdout",
     "output_type": "stream",
     "text": [
      "Equal\n"
     ]
    }
   ],
   "source": [
    "a=5\n",
    "b=5\n",
    "if(a==b):\n",
    "    print(\"Equal\")\n",
    "elif(a>b):\n",
    "      print(\"A\")\n",
    "else:\n",
    "    print(\"B\")"
   ]
  },
  {
   "cell_type": "code",
   "execution_count": 21,
   "id": "17a2c446-85a4-40eb-b8ea-7bb3412426dd",
   "metadata": {},
   "outputs": [
    {
     "name": "stdout",
     "output_type": "stream",
     "text": [
      "Enter Marks : 82\n",
      "A- grade\n"
     ]
    }
   ],
   "source": [
    "a=int(input(\"Enter Marks :\"))\n",
    "if(a>=85):\n",
    "    print(\"A grade\")\n",
    "elif(80<=a<85):\n",
    "    print(\"A- grade\")\n",
    "elif(a<80 and a>=75):\n",
    "    print(\"B grade\")\n",
    "elif(a<75 and a>=70):\n",
    "    print(\"B- grade\")\n",
    "else:\n",
    "    print(\"Below Average\")"
   ]
  },
  {
   "cell_type": "code",
   "execution_count": 25,
   "id": "9e9c1706-b3d9-49e2-8f34-70a12f4315f0",
   "metadata": {},
   "outputs": [
    {
     "name": "stdout",
     "output_type": "stream",
     "text": [
      "Else Part\n"
     ]
    }
   ],
   "source": [
    "a=3\n",
    "if(a>10):\n",
    "    print(\">10\")\n",
    "elif not(a>10):\n",
    "    print(\"Else Part\")"
   ]
  },
  {
   "cell_type": "code",
   "execution_count": 35,
   "id": "4105084c-cfd8-453d-a483-c663c77fcd7c",
   "metadata": {},
   "outputs": [
    {
     "name": "stdout",
     "output_type": "stream",
     "text": [
      "Enter a number :  15\n",
      "Your number is greater than 10\n",
      "and less or equal to 20\n"
     ]
    }
   ],
   "source": [
    "#nested if\n",
    "x=int(input(\"Enter a number : \"))\n",
    "if(x>10):\n",
    "    print(\"Your number is greater than 10\")\n",
    "    if(x>20):\n",
    "        print(\"and also above 20.\")\n",
    "    else:\n",
    "        print(\"and less or equal to 20\")"
   ]
  },
  {
   "cell_type": "code",
   "execution_count": 47,
   "id": "c981dcea-4dd1-4176-8355-e6151357165c",
   "metadata": {},
   "outputs": [
    {
     "name": "stdout",
     "output_type": "stream",
     "text": [
      "Enter a real number : -9\n",
      "odd\n"
     ]
    }
   ],
   "source": [
    "'''\n",
    "user will enter a floating point number lets say 238.915. your task is to find out the\n",
    "integer portion before the point (in this case 238) and then check if that integer portin is \n",
    "even number or not?\n",
    "'''\n",
    "x=float(input(\"Enter a real number :\"))\n",
    "y=round(x)\n",
    "if(x>0):\n",
    "    if(y>x):\n",
    "        intportion=y-1\n",
    "    else:\n",
    "        intportion=y\n",
    "else:\n",
    "    if(y<x):\n",
    "        intportion=y+1\n",
    "    else:\n",
    "        intportion=y\n",
    "if(intportion%2==0):\n",
    "    print(\"even\")\n",
    "else:\n",
    "    print(\"odd\")\n",
    "    "
   ]
  },
  {
   "cell_type": "markdown",
   "id": "7303877e-c03e-455a-9b2f-e76aebc288f9",
   "metadata": {},
   "source": [
    "# Loops"
   ]
  },
  {
   "cell_type": "code",
   "execution_count": 51,
   "id": "9036288a-9c86-42c1-934c-52a83a95cffb",
   "metadata": {},
   "outputs": [
    {
     "name": "stdout",
     "output_type": "stream",
     "text": [
      " 5\n",
      "1\n",
      "This is iteration number : 1\n",
      "4\n",
      "This is iteration number : 2\n",
      "9\n",
      "This is iteration number : 3\n",
      "16\n",
      "This is iteration number : 4\n",
      "loop done\n"
     ]
    }
   ],
   "source": [
    "n=int(input())\n",
    "i=1\n",
    "while(i<n):\n",
    "    print(i**2)\n",
    "    print(\"This is iteration number :\", i)\n",
    "    i+=1\n",
    "print(\"loop done\")"
   ]
  },
  {
   "cell_type": "code",
   "execution_count": 53,
   "id": "cb33a684-c0de-4704-90ed-c78bf0e0d605",
   "metadata": {},
   "outputs": [
    {
     "name": "stdout",
     "output_type": "stream",
     "text": [
      "Max Iterations 5\n",
      "I am inside the loop\n",
      "2\n",
      "I am inside the loop\n",
      "I am inside the loop\n",
      "4\n",
      "I am inside the loop\n",
      "done\n"
     ]
    }
   ],
   "source": [
    "n=int(input('Max Iterations'))\n",
    "i=1\n",
    "while(i<n):\n",
    "    if(i%2)==0:\n",
    "        print(i)\n",
    "    else:\n",
    "        pass\n",
    "    i+=1\n",
    "    print(\"I am inside the loop\")\n",
    "print(\"done\")"
   ]
  },
  {
   "cell_type": "code",
   "execution_count": 61,
   "id": "f62f17f2-03d0-4685-8773-ee28b9d416a4",
   "metadata": {},
   "outputs": [
    {
     "name": "stdout",
     "output_type": "stream",
     "text": [
      "something\n",
      "something else\n",
      "done\n"
     ]
    }
   ],
   "source": [
    "n=10\n",
    "i=1\n",
    "while True:\n",
    "    if(i%9)!=0:\n",
    "        i+=1\n",
    "        continue\n",
    "    print(\"something\")\n",
    "    print(\"something else\")\n",
    "    break\n",
    "print(\"done\")"
   ]
  },
  {
   "cell_type": "code",
   "execution_count": 69,
   "id": "301e073d-3f08-4342-a0e1-a232a9cca4d0",
   "metadata": {},
   "outputs": [
    {
     "name": "stdout",
     "output_type": "stream",
     "text": [
      "1\n",
      "3\n",
      "5\n",
      "7\n",
      "9\n"
     ]
    }
   ],
   "source": [
    "l=[]\n",
    "for i in range(0,10,2):\n",
    "    print(i+1)\n",
    "    l.append(i**2)"
   ]
  },
  {
   "cell_type": "code",
   "execution_count": 71,
   "id": "d2e8b565-71ab-46b4-8fa9-cd14d97aa837",
   "metadata": {},
   "outputs": [
    {
     "data": {
      "text/plain": [
       "[0, 4, 16, 36, 64]"
      ]
     },
     "execution_count": 71,
     "metadata": {},
     "output_type": "execute_result"
    }
   ],
   "source": [
    "l"
   ]
  },
  {
   "cell_type": "code",
   "execution_count": 75,
   "id": "d3845352-2b01-422b-9ada-e8ea6f5f0f0a",
   "metadata": {},
   "outputs": [
    {
     "name": "stdout",
     "output_type": "stream",
     "text": [
      "cherry\n",
      "apple\n",
      "4.9\n",
      "loop terminates with success\n",
      "outside loop\n"
     ]
    }
   ],
   "source": [
    "s={'apple',4.9,'cherry'}\n",
    "for x in s:\n",
    "    print(x)\n",
    "else:\n",
    "    print(\"loop terminates with success\")\n",
    "print(\"outside loop\")"
   ]
  },
  {
   "cell_type": "code",
   "execution_count": 77,
   "id": "2b42f30b-f53b-4a56-8072-beb581800e86",
   "metadata": {},
   "outputs": [
    {
     "name": "stdout",
     "output_type": "stream",
     "text": [
      "cherry\n",
      "apple\n",
      "outside loop\n"
     ]
    }
   ],
   "source": [
    "s={'apple',4.9,'cherry'}\n",
    "i=1\n",
    "for x in s:\n",
    "    print(x)\n",
    "    i+=1\n",
    "    if(i==3):\n",
    "        break\n",
    "else:\n",
    "    print(\"loop terminates with success\")\n",
    "print(\"outside loop\")"
   ]
  },
  {
   "cell_type": "code",
   "execution_count": 83,
   "id": "0dbea957-a1cd-4bf6-a92f-e569081b6b1c",
   "metadata": {},
   "outputs": [
    {
     "name": "stdout",
     "output_type": "stream",
     "text": [
      "a 10\n",
      "b -19\n",
      "c 12\n"
     ]
    }
   ],
   "source": [
    "d={'a':10,'b':-19,'c':12}\n",
    "for x in d:\n",
    "    print(x,d[x])"
   ]
  },
  {
   "cell_type": "code",
   "execution_count": 89,
   "id": "048e91c2-10e7-4faa-9449-ca2e276d46a8",
   "metadata": {},
   "outputs": [
    {
     "name": "stdout",
     "output_type": "stream",
     "text": [
      "[-5, 1, 2, 2, 3, 3, 4, 7, 9]\n"
     ]
    }
   ],
   "source": [
    "'''\n",
    "given a list of numbers i.e. [1,2,3,4,-5,7,9,3,2], make another list that contains all the \n",
    "items in sorted order from min to max i.e your results will be another list like\n",
    "[-5,1,2,2,3,3,7,9]\n",
    "'''\n",
    "\n",
    "l=[1,2,3,4,-5,7,9,3,2]\n",
    "for j in range(len(l)):\n",
    "    m=l[j]\n",
    "    idx=j\n",
    "    c=j\n",
    "    for i in range(j,len(l)):\n",
    "        if(l[i]<m):\n",
    "            m=l[i]\n",
    "            idx=c\n",
    "        c+=1\n",
    "    tmp=l[j]\n",
    "    l[j]=m\n",
    "    l[idx]=tmp\n",
    "print(l)"
   ]
  },
  {
   "cell_type": "markdown",
   "id": "04517c10-9952-4767-b007-1e1b6db17dd9",
   "metadata": {},
   "source": [
    "# Functions"
   ]
  },
  {
   "cell_type": "code",
   "execution_count": 92,
   "id": "7666fb37-0265-4d78-afdb-fb483ded14f6",
   "metadata": {},
   "outputs": [],
   "source": [
    "def printSuccess():\n",
    "    print(\"I am done\")\n",
    "    print(\"send me another task\")"
   ]
  },
  {
   "cell_type": "code",
   "execution_count": 94,
   "id": "857e83be-c8fc-4360-9e43-cdad86ccbe35",
   "metadata": {},
   "outputs": [
    {
     "name": "stdout",
     "output_type": "stream",
     "text": [
      "I am done\n",
      "send me another task\n"
     ]
    }
   ],
   "source": [
    "printSuccess()"
   ]
  },
  {
   "cell_type": "code",
   "execution_count": 96,
   "id": "a5bcd7f4-7918-43bf-8997-a779c4f3c9a9",
   "metadata": {},
   "outputs": [],
   "source": [
    "def printSuccess2():\n",
    "    '''\n",
    "    this function is doing nothing except printing a message.\n",
    "    that msg is hello\n",
    "    '''\n",
    "    print(\"hello\")"
   ]
  },
  {
   "cell_type": "code",
   "execution_count": 98,
   "id": "fce192f9-02c4-4043-8e3e-fa0cbfbfd42a",
   "metadata": {},
   "outputs": [
    {
     "name": "stdout",
     "output_type": "stream",
     "text": [
      "hello\n"
     ]
    }
   ],
   "source": [
    "printSuccess2()"
   ]
  },
  {
   "cell_type": "code",
   "execution_count": 106,
   "id": "f3d52b83-adc7-4c93-a58a-05066b36a40b",
   "metadata": {},
   "outputs": [
    {
     "data": {
      "text/plain": [
       "\u001b[1;31mSignature:\u001b[0m \u001b[0mprintSuccess2\u001b[0m\u001b[1;33m(\u001b[0m\u001b[1;33m)\u001b[0m\u001b[1;33m\u001b[0m\u001b[1;33m\u001b[0m\u001b[0m\n",
       "\u001b[1;31mDocstring:\u001b[0m\n",
       "this function is doing nothing except printing a message.\n",
       "that msg is hello\n",
       "\u001b[1;31mFile:\u001b[0m      c:\\users\\dell\\appdata\\local\\temp\\ipykernel_6572\\2403279227.py\n",
       "\u001b[1;31mType:\u001b[0m      function"
      ]
     },
     "metadata": {},
     "output_type": "display_data"
    }
   ],
   "source": [
    "printSuccess2?"
   ]
  },
  {
   "cell_type": "code",
   "execution_count": 108,
   "id": "5493964a-599a-44ee-9d13-f5067f29b555",
   "metadata": {},
   "outputs": [
    {
     "data": {
      "text/plain": [
       "\u001b[1;31mSignature:\u001b[0m \u001b[0mprintSuccess2\u001b[0m\u001b[1;33m(\u001b[0m\u001b[1;33m)\u001b[0m\u001b[1;33m\u001b[0m\u001b[1;33m\u001b[0m\u001b[0m\n",
       "\u001b[1;31mSource:\u001b[0m   \n",
       "\u001b[1;32mdef\u001b[0m \u001b[0mprintSuccess2\u001b[0m\u001b[1;33m(\u001b[0m\u001b[1;33m)\u001b[0m\u001b[1;33m:\u001b[0m\u001b[1;33m\n",
       "\u001b[0m    \u001b[1;34m'''\n",
       "    this function is doing nothing except printing a message.\n",
       "    that msg is hello\n",
       "    '''\u001b[0m\u001b[1;33m\n",
       "\u001b[0m    \u001b[0mprint\u001b[0m\u001b[1;33m(\u001b[0m\u001b[1;34m\"hello\"\u001b[0m\u001b[1;33m)\u001b[0m\u001b[1;33m\u001b[0m\u001b[1;33m\u001b[0m\u001b[0m\n",
       "\u001b[1;31mFile:\u001b[0m      c:\\users\\dell\\appdata\\local\\temp\\ipykernel_6572\\2403279227.py\n",
       "\u001b[1;31mType:\u001b[0m      function"
      ]
     },
     "metadata": {},
     "output_type": "display_data"
    }
   ],
   "source": [
    "printSuccess2??\n"
   ]
  },
  {
   "cell_type": "code",
   "execution_count": 130,
   "id": "40589bf6-fbc5-45b2-9cc9-a618fb5263e4",
   "metadata": {},
   "outputs": [],
   "source": [
    "def printMsg(msg):\n",
    "    '''\n",
    "    this function prints your message and if you input anything other than a stirng,\n",
    "    the function will tell you the type of the input.\n",
    "    '''\n",
    "    if isinstance(msg,str):\n",
    "        print(msg)\n",
    "    else:\n",
    "        print(\"your input is not a string\")\n",
    "        print(\"here is the type of what you have supplied :\", type(msg))"
   ]
  },
  {
   "cell_type": "code",
   "execution_count": 132,
   "id": "573d63fd-bb23-4a8a-8159-26a5a4f90193",
   "metadata": {},
   "outputs": [],
   "source": [
    "msg=1"
   ]
  },
  {
   "cell_type": "code",
   "execution_count": 134,
   "id": "a91e7654-f92b-4434-922e-0309a815b490",
   "metadata": {},
   "outputs": [
    {
     "name": "stdout",
     "output_type": "stream",
     "text": [
      "your input is not a string\n",
      "here is the type of what you have supplied : <class 'int'>\n"
     ]
    }
   ],
   "source": [
    "printMsg(msg)"
   ]
  },
  {
   "cell_type": "code",
   "execution_count": 136,
   "id": "eb747a46-275d-47f0-9fd2-0553079a9031",
   "metadata": {},
   "outputs": [],
   "source": [
    "msg=\"help\""
   ]
  },
  {
   "cell_type": "code",
   "execution_count": 138,
   "id": "0989c44b-b5d2-47b8-bc95-292dee7b1438",
   "metadata": {},
   "outputs": [
    {
     "name": "stdout",
     "output_type": "stream",
     "text": [
      "help\n"
     ]
    }
   ],
   "source": [
    "printMsg(msg)"
   ]
  },
  {
   "cell_type": "code",
   "execution_count": 140,
   "id": "68f13962-9de8-4921-955c-b42df663b1e2",
   "metadata": {},
   "outputs": [
    {
     "name": "stdout",
     "output_type": "stream",
     "text": [
      "Help on function printMsg in module __main__:\n",
      "\n",
      "printMsg(msg)\n",
      "    this function prints your message and if you input anything other than a stirng,\n",
      "    the function will tell you the type of the input.\n",
      "\n"
     ]
    }
   ],
   "source": [
    "help(printMsg)"
   ]
  },
  {
   "cell_type": "code",
   "execution_count": 142,
   "id": "68310ad1-323a-4f77-80ca-8a8823bfcf81",
   "metadata": {},
   "outputs": [],
   "source": [
    "def mypow(a,b):\n",
    "    '''\n",
    "    this function computes power just like builtin pow function\n",
    "    '''\n",
    "    c=a**b\n",
    "    print(c)"
   ]
  },
  {
   "cell_type": "code",
   "execution_count": 146,
   "id": "aa2a7c95-fa0d-4fd5-b06a-7489b4d9186b",
   "metadata": {},
   "outputs": [
    {
     "data": {
      "text/plain": [
       "\u001b[1;31mSignature:\u001b[0m \u001b[0mmypow\u001b[0m\u001b[1;33m(\u001b[0m\u001b[0ma\u001b[0m\u001b[1;33m,\u001b[0m \u001b[0mb\u001b[0m\u001b[1;33m)\u001b[0m\u001b[1;33m\u001b[0m\u001b[1;33m\u001b[0m\u001b[0m\n",
       "\u001b[1;31mDocstring:\u001b[0m this function computes power just like builtin pow function\n",
       "\u001b[1;31mFile:\u001b[0m      c:\\users\\dell\\appdata\\local\\temp\\ipykernel_6572\\1019875529.py\n",
       "\u001b[1;31mType:\u001b[0m      function"
      ]
     },
     "metadata": {},
     "output_type": "display_data"
    }
   ],
   "source": [
    "mypow?"
   ]
  },
  {
   "cell_type": "code",
   "execution_count": 148,
   "id": "5e044c7f-2342-4d04-88b8-b153b80f8cb8",
   "metadata": {},
   "outputs": [
    {
     "name": "stdout",
     "output_type": "stream",
     "text": [
      "81\n"
     ]
    }
   ],
   "source": [
    "mypow(3,4)"
   ]
  },
  {
   "cell_type": "code",
   "execution_count": 156,
   "id": "bad21e24-0218-4224-a077-5878b04e48da",
   "metadata": {},
   "outputs": [],
   "source": [
    "def checkArgs(a,b,c,d,e):\n",
    "    if isinstance(a,(int,float)) and isinstance(b,(int,float)) and isinstance(c,(int,float)) and isinstance(d,(int,float)) and isinstance(e,(int,float)):\n",
    "        print((a+b+c+d+e)**2)\n",
    "    else:\n",
    "        print(\"error: the input arguements are not of the expected type\")"
   ]
  },
  {
   "cell_type": "code",
   "execution_count": 158,
   "id": "ad5805c5-ef01-45a8-a184-467c09a4a75f",
   "metadata": {},
   "outputs": [
    {
     "name": "stdout",
     "output_type": "stream",
     "text": [
      "625\n"
     ]
    }
   ],
   "source": [
    "checkArgs(3,4,5,6,7)"
   ]
  },
  {
   "cell_type": "code",
   "execution_count": 162,
   "id": "9cd225e0-ef67-4861-b969-859aea90d639",
   "metadata": {},
   "outputs": [
    {
     "name": "stdout",
     "output_type": "stream",
     "text": [
      "error: the input arguements are not of the expected type\n"
     ]
    }
   ],
   "source": [
    "checkArgs(3,4,5,6,\"hell\")"
   ]
  },
  {
   "cell_type": "code",
   "execution_count": 164,
   "id": "989496ab-b6cf-4a3a-97d1-0988fe7ffaf4",
   "metadata": {},
   "outputs": [],
   "source": [
    "def f(a,b,c):\n",
    "    print(\"A is: \",a)\n",
    "    print(\"B is: \",b)\n",
    "    print(\"C is: \",c)"
   ]
  },
  {
   "cell_type": "code",
   "execution_count": 166,
   "id": "6c486c4f-b996-4abf-937b-4e5d9fe13399",
   "metadata": {},
   "outputs": [
    {
     "name": "stdout",
     "output_type": "stream",
     "text": [
      "A is:  1\n",
      "B is:  2\n",
      "C is:  game\n"
     ]
    }
   ],
   "source": [
    "f(1,2,'game')"
   ]
  },
  {
   "cell_type": "code",
   "execution_count": 168,
   "id": "6514b005-3055-4e5d-ae23-5fc8fbbec1d8",
   "metadata": {},
   "outputs": [
    {
     "name": "stdout",
     "output_type": "stream",
     "text": [
      "A is:  2\n",
      "B is:  game\n",
      "C is:  1\n"
     ]
    }
   ],
   "source": [
    "f(2,'game',1)"
   ]
  },
  {
   "cell_type": "code",
   "execution_count": 170,
   "id": "fa1e8fd3-bf69-413c-8526-539ee0684018",
   "metadata": {},
   "outputs": [
    {
     "name": "stdout",
     "output_type": "stream",
     "text": [
      "A is:  1\n",
      "B is:  2\n",
      "C is:  game\n"
     ]
    }
   ],
   "source": [
    "\n",
    "f(a=1,b=2,c='game')"
   ]
  },
  {
   "cell_type": "code",
   "execution_count": 196,
   "id": "ef0457ac-24ce-4189-b55c-a8c68c26aa54",
   "metadata": {},
   "outputs": [],
   "source": [
    "def myadd(a,b):\n",
    "    sumvalue=a+b\n",
    "    return sumvalue"
   ]
  },
  {
   "cell_type": "code",
   "execution_count": 198,
   "id": "4ebe58b0-c496-4627-b253-2585ebc2264a",
   "metadata": {},
   "outputs": [
    {
     "ename": "NameError",
     "evalue": "name 'sumvalue' is not defined",
     "output_type": "error",
     "traceback": [
      "\u001b[1;31m---------------------------------------------------------------------------\u001b[0m",
      "\u001b[1;31mNameError\u001b[0m                                 Traceback (most recent call last)",
      "Cell \u001b[1;32mIn[198], line 2\u001b[0m\n\u001b[0;32m      1\u001b[0m myadd(\u001b[38;5;241m2\u001b[39m,\u001b[38;5;241m32\u001b[39m)\n\u001b[1;32m----> 2\u001b[0m \u001b[38;5;28mprint\u001b[39m(sumvalue)\n",
      "\u001b[1;31mNameError\u001b[0m: name 'sumvalue' is not defined"
     ]
    }
   ],
   "source": [
    "myadd(2,32)\n",
    "print(sumvalue)"
   ]
  },
  {
   "cell_type": "code",
   "execution_count": 202,
   "id": "709200b0-3ca3-489a-bfc1-6878619e0c9f",
   "metadata": {},
   "outputs": [
    {
     "name": "stdout",
     "output_type": "stream",
     "text": [
      "34\n"
     ]
    }
   ],
   "source": [
    "d=myadd(2,32)\n",
    "print(d)"
   ]
  },
  {
   "cell_type": "code",
   "execution_count": 204,
   "id": "e907dbfe-74c4-4918-8454-03fd6dedeba1",
   "metadata": {},
   "outputs": [],
   "source": [
    "variableOutsideTheFunction=3"
   ]
  },
  {
   "cell_type": "code",
   "execution_count": 220,
   "id": "e5be2927-f78a-498f-a828-b789f82fd6d3",
   "metadata": {},
   "outputs": [],
   "source": [
    "def g():\n",
    "    variableOutsideTheFunction=5\n",
    "    print(variableOutsideTheFunction)"
   ]
  },
  {
   "cell_type": "code",
   "execution_count": 216,
   "id": "61afaa26-cfea-42d2-a307-c2e7d8c6c51e",
   "metadata": {},
   "outputs": [
    {
     "name": "stdout",
     "output_type": "stream",
     "text": [
      "5\n"
     ]
    }
   ],
   "source": [
    "g()"
   ]
  },
  {
   "cell_type": "code",
   "execution_count": 218,
   "id": "1f86eff3-841b-4b40-a8bc-f7391848f9e6",
   "metadata": {},
   "outputs": [
    {
     "data": {
      "text/plain": [
       "3"
      ]
     },
     "execution_count": 218,
     "metadata": {},
     "output_type": "execute_result"
    }
   ],
   "source": [
    "variableOutsideTheFunction"
   ]
  },
  {
   "cell_type": "code",
   "execution_count": 226,
   "id": "3f18386b-2314-4af3-817b-58e8ec293c85",
   "metadata": {},
   "outputs": [],
   "source": [
    "def h():\n",
    "    print(\"A\")\n",
    "    a=3\n",
    "    b=5\n",
    "    c=a+b\n",
    "    print(\"something\")\n",
    "    return c\n",
    "    print(\"B\")\n",
    "    print(\"C\")"
   ]
  },
  {
   "cell_type": "code",
   "execution_count": 228,
   "id": "b39dd566-ad27-4060-851c-c58ae339a472",
   "metadata": {},
   "outputs": [
    {
     "name": "stdout",
     "output_type": "stream",
     "text": [
      "A\n",
      "something\n"
     ]
    },
    {
     "data": {
      "text/plain": [
       "8"
      ]
     },
     "execution_count": 228,
     "metadata": {},
     "output_type": "execute_result"
    }
   ],
   "source": [
    "h()"
   ]
  },
  {
   "cell_type": "code",
   "execution_count": 230,
   "id": "25830244-3bb9-4de5-a85d-2d1e0c201d40",
   "metadata": {},
   "outputs": [],
   "source": [
    "def r():\n",
    "    a=5\n",
    "    b=7\n",
    "    d='something'\n",
    "    return a,b,d"
   ]
  },
  {
   "cell_type": "code",
   "execution_count": 232,
   "id": "6677782a-2ead-4af5-983c-3a5659494067",
   "metadata": {},
   "outputs": [],
   "source": [
    "x,y,z=r()"
   ]
  },
  {
   "cell_type": "code",
   "execution_count": 234,
   "id": "4a5e1bc5-52e1-45b1-a0ae-bdd2fbe40afc",
   "metadata": {},
   "outputs": [
    {
     "name": "stdout",
     "output_type": "stream",
     "text": [
      "5 7 something\n"
     ]
    }
   ],
   "source": [
    "print(x,y,z)"
   ]
  },
  {
   "cell_type": "code",
   "execution_count": 254,
   "id": "411fdbdd-c238-44d8-8b09-74ec98363e3e",
   "metadata": {},
   "outputs": [],
   "source": [
    "def myaddUniversal(*args):\n",
    "    sum=0\n",
    "    for i in range(len(args)):\n",
    "        sum+=args[i]\n",
    "    return sum"
   ]
  },
  {
   "cell_type": "code",
   "execution_count": 256,
   "id": "5fc6ead4-4f67-4851-8aa9-e0a11885f01a",
   "metadata": {},
   "outputs": [
    {
     "data": {
      "text/plain": [
       "15"
      ]
     },
     "execution_count": 256,
     "metadata": {},
     "output_type": "execute_result"
    }
   ],
   "source": [
    "myaddUniversal(1,2,3,4,5)"
   ]
  },
  {
   "cell_type": "code",
   "execution_count": 258,
   "id": "bf26b487-81d5-4556-bb55-7e25f33df6b4",
   "metadata": {},
   "outputs": [
    {
     "data": {
      "text/plain": [
       "10"
      ]
     },
     "execution_count": 258,
     "metadata": {},
     "output_type": "execute_result"
    }
   ],
   "source": [
    "myaddUniversal(1,2,3,4)"
   ]
  },
  {
   "cell_type": "code",
   "execution_count": 262,
   "id": "dbad31fc-d75c-4e79-bf71-6db375fd97de",
   "metadata": {},
   "outputs": [],
   "source": [
    "def printAllVariableNamesAndValues(**c):\n",
    "    for x in c:\n",
    "\n",
    "        print(\"variable name is :\",x,\" And Vaue is :\",c[x])"
   ]
  },
  {
   "cell_type": "code",
   "execution_count": 270,
   "id": "b949ec51-cd2e-4817-8dfd-f65f3a62b7bf",
   "metadata": {},
   "outputs": [
    {
     "name": "stdout",
     "output_type": "stream",
     "text": [
      "variable name is : a  And Vaue is : 3\n",
      "variable name is : b  And Vaue is : b\n",
      "variable name is : c  And Vaue is : ccc\n",
      "variable name is : y  And Vaue is : 6.7\n"
     ]
    }
   ],
   "source": [
    "printAllVariableNamesAndValues(a=3,b=\"b\",c=\"ccc\",y=6.7)"
   ]
  },
  {
   "cell_type": "code",
   "execution_count": 272,
   "id": "b3ec54c3-7d76-4e47-85b8-3c928e545ab3",
   "metadata": {},
   "outputs": [],
   "source": [
    "def gg(s=4):\n",
    "    print(s)"
   ]
  },
  {
   "cell_type": "code",
   "execution_count": 274,
   "id": "c11282c1-bdd6-412b-a2aa-f1fd97da9ed1",
   "metadata": {},
   "outputs": [
    {
     "name": "stdout",
     "output_type": "stream",
     "text": [
      "4\n"
     ]
    }
   ],
   "source": [
    "gg()"
   ]
  },
  {
   "cell_type": "code",
   "execution_count": 276,
   "id": "721bbcf4-e6da-4bb6-9c8a-4cbff536fd9d",
   "metadata": {},
   "outputs": [
    {
     "name": "stdout",
     "output_type": "stream",
     "text": [
      "5\n"
     ]
    }
   ],
   "source": [
    "gg(5)"
   ]
  },
  {
   "cell_type": "code",
   "execution_count": 278,
   "id": "085fef5e-9dac-49e2-885a-5ff492fd2d86",
   "metadata": {},
   "outputs": [
    {
     "name": "stdout",
     "output_type": "stream",
     "text": [
      "[-9, 2, 3]\n"
     ]
    }
   ],
   "source": [
    "l=[1,2,3]\n",
    "l2=l\n",
    "l2[0]=-9\n",
    "print(l)"
   ]
  },
  {
   "cell_type": "code",
   "execution_count": 280,
   "id": "f44e63fd-4cd8-4110-804d-d6af3a6e9fb8",
   "metadata": {},
   "outputs": [],
   "source": [
    "def ff(l=[1,2]):\n",
    "    for i in l:\n",
    "        print(i)"
   ]
  },
  {
   "cell_type": "code",
   "execution_count": 282,
   "id": "28b59a97-1f9b-4ac1-8ed5-d99ff901c0bf",
   "metadata": {},
   "outputs": [],
   "source": [
    "l=[12,3,4]"
   ]
  },
  {
   "cell_type": "code",
   "execution_count": 284,
   "id": "1f6ee32c-e02c-4cbb-b36e-46519b80d669",
   "metadata": {},
   "outputs": [
    {
     "name": "stdout",
     "output_type": "stream",
     "text": [
      "1\n",
      "2\n"
     ]
    }
   ],
   "source": [
    "ff()"
   ]
  },
  {
   "cell_type": "code",
   "execution_count": 286,
   "id": "34c38e09-f319-48e5-a016-7e96faff95f7",
   "metadata": {},
   "outputs": [
    {
     "name": "stdout",
     "output_type": "stream",
     "text": [
      "12\n",
      "3\n",
      "4\n"
     ]
    }
   ],
   "source": [
    "ff(l)"
   ]
  },
  {
   "cell_type": "markdown",
   "id": "8ab397f2-cded-4010-9270-4c1016eb1204",
   "metadata": {},
   "source": [
    "# Modules"
   ]
  },
  {
   "cell_type": "code",
   "execution_count": 1,
   "id": "2497bb25-f8c3-4f90-99f1-bc02d8e0ab83",
   "metadata": {},
   "outputs": [],
   "source": [
    "import sys\n",
    "sys.path.append('C:/Users/vinay/Desktop/Revision/Functions')"
   ]
  },
  {
   "cell_type": "code",
   "execution_count": 2,
   "id": "ca10fba3-b995-4f9a-974b-030bf6728b2c",
   "metadata": {},
   "outputs": [],
   "source": [
    "import my_Universal_Functions as myfs"
   ]
  },
  {
   "cell_type": "code",
   "execution_count": 3,
   "id": "ff9e6e3f-8687-45af-92da-f8b264d1704c",
   "metadata": {},
   "outputs": [],
   "source": [
    "myfs.addAllNumerics??"
   ]
  },
  {
   "cell_type": "code",
   "execution_count": 4,
   "id": "1cb6afed",
   "metadata": {},
   "outputs": [],
   "source": [
    "d=myfs.addAllNumerics(1,2,3,4,5,6)"
   ]
  },
  {
   "cell_type": "code",
   "execution_count": 5,
   "id": "7f89ab5e",
   "metadata": {},
   "outputs": [
    {
     "name": "stdout",
     "output_type": "stream",
     "text": [
      "21\n"
     ]
    }
   ],
   "source": [
    "print(d)"
   ]
  },
  {
   "cell_type": "code",
   "execution_count": 6,
   "id": "13d406cc",
   "metadata": {},
   "outputs": [
    {
     "data": {
      "text/plain": [
       "'Python Revision'"
      ]
     },
     "execution_count": 6,
     "metadata": {},
     "output_type": "execute_result"
    }
   ],
   "source": [
    "myfs.myName"
   ]
  },
  {
   "cell_type": "markdown",
   "id": "38e94f83",
   "metadata": {},
   "source": [
    "# Practice Functions"
   ]
  },
  {
   "cell_type": "code",
   "execution_count": 10,
   "id": "0fa6e13d",
   "metadata": {},
   "outputs": [
    {
     "data": {
      "text/plain": [
       "'\\ngiven a list of numbers i.e. [1,2,3,4,-5,7,9,3,2], make another list that contains all the \\nitems in sorted order from min to max i.e your results will be another list like\\n[-5,1,2,2,3,3,7,9]\\n'"
      ]
     },
     "execution_count": 10,
     "metadata": {},
     "output_type": "execute_result"
    }
   ],
   "source": [
    "'''\n",
    "given a list of numbers i.e. [1,2,3,4,-5,7,9,3,2], make another list that contains all the \n",
    "items in sorted order from min to max i.e your results will be another list like\n",
    "[-5,1,2,2,3,3,7,9]\n",
    "'''"
   ]
  },
  {
   "cell_type": "code",
   "execution_count": 22,
   "id": "cc4d5e0b",
   "metadata": {},
   "outputs": [],
   "source": [
    "def findMin(l,startIndex):\n",
    "    m=l[startIndex]\n",
    "    idx=startIndex\n",
    "    for i in range(startIndex,len(l)):\n",
    "        x=l[i]\n",
    "        if(x<m):\n",
    "            m=x\n",
    "            idx=i\n",
    "        else:\n",
    "            pass\n",
    "        i+=1\n",
    "    return m,idx"
   ]
  },
  {
   "cell_type": "code",
   "execution_count": 12,
   "id": "61b2e74e",
   "metadata": {},
   "outputs": [],
   "source": [
    "a,b=findMin([2,3,4,0,9])"
   ]
  },
  {
   "cell_type": "code",
   "execution_count": 13,
   "id": "cdfabf64",
   "metadata": {},
   "outputs": [
    {
     "name": "stdout",
     "output_type": "stream",
     "text": [
      "0 3\n"
     ]
    }
   ],
   "source": [
    "print(a,b)"
   ]
  },
  {
   "cell_type": "code",
   "execution_count": 17,
   "id": "d460e639",
   "metadata": {},
   "outputs": [],
   "source": [
    "def swapValues(l,idx1,idx2):\n",
    "    tmp=l[idx1]\n",
    "    l[idx1]=l[idx2]\n",
    "    l[idx2]=tmp\n",
    "    return l"
   ]
  },
  {
   "cell_type": "code",
   "execution_count": 18,
   "id": "77405e3e",
   "metadata": {},
   "outputs": [
    {
     "name": "stdout",
     "output_type": "stream",
     "text": [
      "[2, 7, 6, 3]\n"
     ]
    }
   ],
   "source": [
    "l=[2,3,6,7]\n",
    "l2=swapValues(l,1,3)\n",
    "print(l2)"
   ]
  },
  {
   "cell_type": "code",
   "execution_count": 37,
   "id": "2e22ca15",
   "metadata": {},
   "outputs": [],
   "source": [
    "from my_Universal_Functions import checkIfNotNumeric as cinn\n",
    "def sortList(l):\n",
    "    if not(checkIfNotNumeric2(l)):\n",
    "        print(\"Error: list does not contain numeric values\")\n",
    "        return\n",
    "    else:\n",
    "        c=0\n",
    "        for x in l:\n",
    "            m,idx=findMin(l,c)\n",
    "            l=swapValues(l,c,idx)\n",
    "            c+=1\n",
    "    return l"
   ]
  },
  {
   "cell_type": "code",
   "execution_count": 39,
   "id": "fefad600",
   "metadata": {},
   "outputs": [
    {
     "name": "stdout",
     "output_type": "stream",
     "text": [
      "[-8, 1, 2, 3, 5, 17]\n"
     ]
    }
   ],
   "source": [
    "l2=sortList([2,1,5,3,-8,17])\n",
    "print(l2)"
   ]
  },
  {
   "cell_type": "code",
   "execution_count": 34,
   "id": "037f6c8d",
   "metadata": {},
   "outputs": [],
   "source": [
    "def checkIfNotNumeric2(l):\n",
    "    for x in l:\n",
    "        if not(isinstance(x,(int,float))):\n",
    "            return False\n",
    "    return True"
   ]
  },
  {
   "cell_type": "markdown",
   "id": "5f2a326f",
   "metadata": {},
   "source": [
    "# Strings"
   ]
  },
  {
   "cell_type": "code",
   "execution_count": 43,
   "id": "99d04cc7",
   "metadata": {},
   "outputs": [],
   "source": [
    "s=\"Python is a good language\"\n",
    "t=\"It is good for data science\""
   ]
  },
  {
   "cell_type": "code",
   "execution_count": 41,
   "id": "ef8ce2d0",
   "metadata": {},
   "outputs": [
    {
     "data": {
      "text/plain": [
       "str"
      ]
     },
     "execution_count": 41,
     "metadata": {},
     "output_type": "execute_result"
    }
   ],
   "source": [
    "type(s)"
   ]
  },
  {
   "cell_type": "code",
   "execution_count": 42,
   "id": "d06fade4",
   "metadata": {},
   "outputs": [
    {
     "name": "stdout",
     "output_type": "stream",
     "text": [
      "Python is a good language\n"
     ]
    }
   ],
   "source": [
    "print(s)"
   ]
  },
  {
   "cell_type": "code",
   "execution_count": 45,
   "id": "e3598c96",
   "metadata": {},
   "outputs": [
    {
     "name": "stdout",
     "output_type": "stream",
     "text": [
      "Python is a good languageIt is good for data science\n"
     ]
    }
   ],
   "source": [
    "v=s+t\n",
    "print(v)"
   ]
  },
  {
   "cell_type": "code",
   "execution_count": 46,
   "id": "589aad8b",
   "metadata": {},
   "outputs": [
    {
     "name": "stdout",
     "output_type": "stream",
     "text": [
      "Python is a good language It is good for data science\n"
     ]
    }
   ],
   "source": [
    "v=s+\" \"+t\n",
    "print(v)"
   ]
  },
  {
   "cell_type": "code",
   "execution_count": 49,
   "id": "04c1c72e",
   "metadata": {},
   "outputs": [
    {
     "name": "stdout",
     "output_type": "stream",
     "text": [
      "The price of this bookis: 12\n",
      "The price of this book is 12\n"
     ]
    }
   ],
   "source": [
    "price=12\n",
    "s=\"The price of this book\"\n",
    "v=s+\"is: \"+str(price)\n",
    "print(v)\n",
    "print(s,\"is\", price)"
   ]
  },
  {
   "cell_type": "code",
   "execution_count": 50,
   "id": "cc0502a5",
   "metadata": {},
   "outputs": [
    {
     "name": "stdout",
     "output_type": "stream",
     "text": [
      "this i line 1\n",
      "this is line 2\n",
      "this is last line and this line is 3s\n",
      "\n"
     ]
    }
   ],
   "source": [
    "a='''this i line 1\n",
    "this is line 2\n",
    "this is last line and this line is 3s\n",
    "'''\n",
    "print(a)"
   ]
  },
  {
   "cell_type": "code",
   "execution_count": 51,
   "id": "bc0091f4",
   "metadata": {},
   "outputs": [
    {
     "name": "stdout",
     "output_type": "stream",
     "text": [
      "the following options are available:\n",
      "            -a        : does nothing\n",
      "            -b        : also does nothing\n",
      "\n",
      "\n"
     ]
    }
   ],
   "source": [
    "print('''the following options are available:\n",
    "            -a        : does nothing\n",
    "            -b        : also does nothing\n",
    "\n",
    "''')"
   ]
  },
  {
   "cell_type": "code",
   "execution_count": 52,
   "id": "7114422b",
   "metadata": {},
   "outputs": [
    {
     "name": "stdout",
     "output_type": "stream",
     "text": [
      "e of \n",
      "gramm\n",
      "19\n",
      "5\n"
     ]
    }
   ],
   "source": [
    "a=\"game of programming\"\n",
    "print(a[3:8])\n",
    "print(a[-8:-3])\n",
    "\n",
    "print(len(a))\n",
    "print(len(a[3:8]))"
   ]
  },
  {
   "cell_type": "code",
   "execution_count": 57,
   "id": "920b3081",
   "metadata": {},
   "outputs": [
    {
     "name": "stdout",
     "output_type": "stream",
     "text": [
      "u\n"
     ]
    }
   ],
   "source": [
    "s=\"how are you and who are you\"\n",
    "print(s[10])"
   ]
  },
  {
   "cell_type": "code",
   "execution_count": 54,
   "id": "85f7f00a",
   "metadata": {},
   "outputs": [
    {
     "data": {
      "text/plain": [
       "str"
      ]
     },
     "execution_count": 54,
     "metadata": {},
     "output_type": "execute_result"
    }
   ],
   "source": [
    "type(s[5])"
   ]
  },
  {
   "cell_type": "code",
   "execution_count": 56,
   "id": "0f0a15e2",
   "metadata": {},
   "outputs": [
    {
     "data": {
      "text/plain": [
       "'how are yo'"
      ]
     },
     "execution_count": 56,
     "metadata": {},
     "output_type": "execute_result"
    }
   ],
   "source": [
    "s[0:10]"
   ]
  },
  {
   "cell_type": "code",
   "execution_count": 58,
   "id": "810542dc",
   "metadata": {},
   "outputs": [
    {
     "data": {
      "text/plain": [
       "'u'"
      ]
     },
     "execution_count": 58,
     "metadata": {},
     "output_type": "execute_result"
    }
   ],
   "source": [
    "s[-1]"
   ]
  },
  {
   "cell_type": "code",
   "execution_count": 59,
   "id": "2f9d3430",
   "metadata": {},
   "outputs": [
    {
     "data": {
      "text/plain": [
       "'y'"
      ]
     },
     "execution_count": 59,
     "metadata": {},
     "output_type": "execute_result"
    }
   ],
   "source": [
    "s[-3]"
   ]
  },
  {
   "cell_type": "code",
   "execution_count": 60,
   "id": "b1edeb7d",
   "metadata": {},
   "outputs": [
    {
     "data": {
      "text/plain": [
       "' are '"
      ]
     },
     "execution_count": 60,
     "metadata": {},
     "output_type": "execute_result"
    }
   ],
   "source": [
    "s[-8:-3]"
   ]
  },
  {
   "cell_type": "code",
   "execution_count": 62,
   "id": "8adbf1d6",
   "metadata": {},
   "outputs": [
    {
     "ename": "TypeError",
     "evalue": "'str' object does not support item assignment",
     "output_type": "error",
     "traceback": [
      "\u001b[1;31m---------------------------------------------------------------------------\u001b[0m",
      "\u001b[1;31mTypeError\u001b[0m                                 Traceback (most recent call last)",
      "\u001b[1;32m~\\AppData\\Local\\Temp/ipykernel_3044/566341503.py\u001b[0m in \u001b[0;36m<module>\u001b[1;34m\u001b[0m\n\u001b[1;32m----> 1\u001b[1;33m \u001b[0ms\u001b[0m\u001b[1;33m[\u001b[0m\u001b[1;36m1\u001b[0m\u001b[1;33m]\u001b[0m\u001b[1;33m=\u001b[0m\u001b[1;34m\"e\"\u001b[0m\u001b[1;33m\u001b[0m\u001b[1;33m\u001b[0m\u001b[0m\n\u001b[0m",
      "\u001b[1;31mTypeError\u001b[0m: 'str' object does not support item assignment"
     ]
    }
   ],
   "source": [
    "s[1]=\"e\""
   ]
  },
  {
   "cell_type": "code",
   "execution_count": 63,
   "id": "cadfa067",
   "metadata": {},
   "outputs": [
    {
     "data": {
      "text/plain": [
       "'hwaeyu'"
      ]
     },
     "execution_count": 63,
     "metadata": {},
     "output_type": "execute_result"
    }
   ],
   "source": [
    "s[0:12:2]"
   ]
  },
  {
   "cell_type": "code",
   "execution_count": 64,
   "id": "6b064169",
   "metadata": {},
   "outputs": [
    {
     "data": {
      "text/plain": [
       "'how are you '"
      ]
     },
     "execution_count": 64,
     "metadata": {},
     "output_type": "execute_result"
    }
   ],
   "source": [
    "#s[start:end:step]\n",
    "s[:12]"
   ]
  },
  {
   "cell_type": "code",
   "execution_count": 65,
   "id": "927bbb67",
   "metadata": {},
   "outputs": [
    {
     "data": {
      "text/plain": [
       "' are you and who are you'"
      ]
     },
     "execution_count": 65,
     "metadata": {},
     "output_type": "execute_result"
    }
   ],
   "source": [
    "s[3:]"
   ]
  },
  {
   "cell_type": "code",
   "execution_count": 66,
   "id": "07b2622b",
   "metadata": {},
   "outputs": [
    {
     "data": {
      "text/plain": [
       "'ow are you '"
      ]
     },
     "execution_count": 66,
     "metadata": {},
     "output_type": "execute_result"
    }
   ],
   "source": [
    "s[1:12]"
   ]
  },
  {
   "cell_type": "code",
   "execution_count": 67,
   "id": "62fcf3d7",
   "metadata": {},
   "outputs": [
    {
     "data": {
      "text/plain": [
       "'uoy era ohw dna uoy era woh'"
      ]
     },
     "execution_count": 67,
     "metadata": {},
     "output_type": "execute_result"
    }
   ],
   "source": [
    "s[::-1]"
   ]
  },
  {
   "cell_type": "code",
   "execution_count": 69,
   "id": "012136f4",
   "metadata": {},
   "outputs": [
    {
     "name": "stdout",
     "output_type": "stream",
     "text": [
      "abc def      hgq dsjhadk\n"
     ]
    }
   ],
   "source": [
    "a=\"    abc def      hgq dsjhadk    \"\n",
    "b=a.strip()\n",
    "print(b)"
   ]
  },
  {
   "cell_type": "code",
   "execution_count": 70,
   "id": "1503bda6",
   "metadata": {},
   "outputs": [
    {
     "name": "stdout",
     "output_type": "stream",
     "text": [
      "abc defg ;; sadha wq\n"
     ]
    }
   ],
   "source": [
    "a=\"ABC deFg ;; SadHa WQ\"\n",
    "b=a.lower()\n",
    "print(b)"
   ]
  },
  {
   "cell_type": "code",
   "execution_count": 71,
   "id": "f9f9277d",
   "metadata": {},
   "outputs": [
    {
     "name": "stdout",
     "output_type": "stream",
     "text": [
      "ABC DEFG ;; SADHA WQ\n"
     ]
    }
   ],
   "source": [
    "b=a.upper()\n",
    "print(b)"
   ]
  },
  {
   "cell_type": "code",
   "execution_count": 72,
   "id": "56a824c3",
   "metadata": {},
   "outputs": [
    {
     "name": "stdout",
     "output_type": "stream",
     "text": [
      "ABC deFg ** SadHa WQ\n"
     ]
    }
   ],
   "source": [
    "d=a.replace(\";\",\"*\")\n",
    "print(d)"
   ]
  },
  {
   "cell_type": "code",
   "execution_count": 73,
   "id": "aee2aea5",
   "metadata": {},
   "outputs": [
    {
     "name": "stdout",
     "output_type": "stream",
     "text": [
      "ABC deFg **&&^^%%**&&^^%% SadHa WQ\n"
     ]
    }
   ],
   "source": [
    "d=a.replace(\";\",\"**&&^^%%\")\n",
    "print(d)"
   ]
  },
  {
   "cell_type": "code",
   "execution_count": 74,
   "id": "d41da7dc",
   "metadata": {},
   "outputs": [
    {
     "name": "stdout",
     "output_type": "stream",
     "text": [
      "ABC deFg two semi colons SadHa WQ\n"
     ]
    }
   ],
   "source": [
    "d=a.replace(\";;\",\"two semi colons\")\n",
    "print(d)"
   ]
  },
  {
   "cell_type": "code",
   "execution_count": 75,
   "id": "ac914640",
   "metadata": {},
   "outputs": [
    {
     "name": "stdout",
     "output_type": "stream",
     "text": [
      "['abc', 'def', 'fhff', '123srff']\n"
     ]
    }
   ],
   "source": [
    "a=\"abc;def;fhff;123srff\"\n",
    "l=a.split(\";\")\n",
    "print(l)"
   ]
  },
  {
   "cell_type": "code",
   "execution_count": 77,
   "id": "d909480b",
   "metadata": {},
   "outputs": [
    {
     "name": "stdout",
     "output_type": "stream",
     "text": [
      "Abc;def;fhff;123srff\n"
     ]
    }
   ],
   "source": [
    " print(a.capitalize())"
   ]
  },
  {
   "cell_type": "code",
   "execution_count": 78,
   "id": "71afa131",
   "metadata": {},
   "outputs": [
    {
     "data": {
      "text/plain": [
       "'Dahjdchnsjdbn'"
      ]
     },
     "execution_count": 78,
     "metadata": {},
     "output_type": "execute_result"
    }
   ],
   "source": [
    "\"dahjdchnsjdbn\".capitalize()"
   ]
  },
  {
   "cell_type": "code",
   "execution_count": 80,
   "id": "755f2525",
   "metadata": {},
   "outputs": [
    {
     "data": {
      "text/plain": [
       "False"
      ]
     },
     "execution_count": 80,
     "metadata": {},
     "output_type": "execute_result"
    }
   ],
   "source": [
    "\"abc\" in \"dhjbsahkdbkhjasbd\""
   ]
  },
  {
   "cell_type": "code",
   "execution_count": 81,
   "id": "036974f8",
   "metadata": {},
   "outputs": [
    {
     "data": {
      "text/plain": [
       "True"
      ]
     },
     "execution_count": 81,
     "metadata": {},
     "output_type": "execute_result"
    }
   ],
   "source": [
    "\"abc\" in \"sjdnjabckn\""
   ]
  },
  {
   "cell_type": "code",
   "execution_count": 82,
   "id": "a9436cea",
   "metadata": {},
   "outputs": [
    {
     "data": {
      "text/plain": [
       "True"
      ]
     },
     "execution_count": 82,
     "metadata": {},
     "output_type": "execute_result"
    }
   ],
   "source": [
    "\"abc\"==\"abc\""
   ]
  },
  {
   "cell_type": "code",
   "execution_count": 86,
   "id": "304186b9",
   "metadata": {},
   "outputs": [
    {
     "data": {
      "text/plain": [
       "True"
      ]
     },
     "execution_count": 86,
     "metadata": {},
     "output_type": "execute_result"
    }
   ],
   "source": [
    "\"abc\"<\"def\""
   ]
  },
  {
   "cell_type": "code",
   "execution_count": 84,
   "id": "a77e7974",
   "metadata": {},
   "outputs": [
    {
     "data": {
      "text/plain": [
       "True"
      ]
     },
     "execution_count": 84,
     "metadata": {},
     "output_type": "execute_result"
    }
   ],
   "source": [
    "\"abcdefghi\"<\"def\""
   ]
  },
  {
   "cell_type": "code",
   "execution_count": 87,
   "id": "eba16934",
   "metadata": {},
   "outputs": [
    {
     "name": "stdout",
     "output_type": "stream",
     "text": [
      "we are learning \"string\" here\n"
     ]
    }
   ],
   "source": [
    "print(\"we are learning \\\"string\\\" here\")"
   ]
  },
  {
   "cell_type": "code",
   "execution_count": 88,
   "id": "cb2eced5",
   "metadata": {},
   "outputs": [
    {
     "name": "stdout",
     "output_type": "stream",
     "text": [
      "we are learning \"string\" here\n"
     ]
    }
   ],
   "source": [
    "print('we are learning \"string\" here')"
   ]
  },
  {
   "cell_type": "code",
   "execution_count": 89,
   "id": "3f2e1eaa",
   "metadata": {},
   "outputs": [
    {
     "name": "stdout",
     "output_type": "stream",
     "text": [
      "we are \n",
      " now on another line\n"
     ]
    }
   ],
   "source": [
    "print(\"we are \\n now on another line\")"
   ]
  },
  {
   "cell_type": "code",
   "execution_count": 91,
   "id": "6f90c196",
   "metadata": {},
   "outputs": [
    {
     "name": "stdout",
     "output_type": "stream",
     "text": [
      "we now have \t space in sentence\n"
     ]
    }
   ],
   "source": [
    "print(\"we now have \\t space in sentence\")"
   ]
  },
  {
   "cell_type": "code",
   "execution_count": 92,
   "id": "35cd9e2f",
   "metadata": {},
   "outputs": [
    {
     "name": "stdout",
     "output_type": "stream",
     "text": [
      "c:\n",
      "ame\\drive\n"
     ]
    }
   ],
   "source": [
    "print(\"c:\\name\\drive\")"
   ]
  },
  {
   "cell_type": "code",
   "execution_count": 93,
   "id": "3243bbff",
   "metadata": {},
   "outputs": [
    {
     "name": "stdout",
     "output_type": "stream",
     "text": [
      "c:\\name\\drive\n"
     ]
    }
   ],
   "source": [
    "print(r\"c:\\name\\drive\")"
   ]
  },
  {
   "cell_type": "markdown",
   "id": "429cfbfa",
   "metadata": {},
   "source": [
    "# Data Structures (List,tuple,set,dictionary)"
   ]
  },
  {
   "cell_type": "code",
   "execution_count": 95,
   "id": "2f9f045a",
   "metadata": {},
   "outputs": [],
   "source": [
    "l=[1,3,4.9,\"name\",3]\n",
    "t=(1,3,4.9,\"name\",3)\n",
    "s={1,3,4.9,\"name\",3}\n",
    "d={23:\"twothree\",\"B\":43,\"c\":\"CCCD\"}"
   ]
  },
  {
   "cell_type": "code",
   "execution_count": 97,
   "id": "36a2ad66",
   "metadata": {},
   "outputs": [
    {
     "name": "stdout",
     "output_type": "stream",
     "text": [
      "The type of l is  <class 'list'>\n",
      "The type of t is  <class 'tuple'>\n",
      "The type of s is  <class 'set'>\n",
      "The type of d is  <class 'dict'>\n"
     ]
    }
   ],
   "source": [
    "print(\"The type of l is \", type(l))\n",
    "print(\"The type of t is \", type(t))\n",
    "print(\"The type of s is \", type(s))\n",
    "print(\"The type of d is \", type(d))"
   ]
  },
  {
   "cell_type": "code",
   "execution_count": 98,
   "id": "a5c1fc2c",
   "metadata": {},
   "outputs": [
    {
     "name": "stdout",
     "output_type": "stream",
     "text": [
      "3\n",
      "3\n",
      "True\n",
      "twothree\n"
     ]
    }
   ],
   "source": [
    "print(l[1])\n",
    "print(t[1])\n",
    "print(3 in s)\n",
    "print(d[23])"
   ]
  },
  {
   "cell_type": "code",
   "execution_count": 99,
   "id": "971a1dde",
   "metadata": {},
   "outputs": [
    {
     "name": "stdout",
     "output_type": "stream",
     "text": [
      "43\n"
     ]
    }
   ],
   "source": [
    "print(d[\"B\"])"
   ]
  },
  {
   "cell_type": "code",
   "execution_count": 100,
   "id": "d300516b",
   "metadata": {},
   "outputs": [
    {
     "data": {
      "text/plain": [
       "[1, 3, 4.9, 'name', 3]"
      ]
     },
     "execution_count": 100,
     "metadata": {},
     "output_type": "execute_result"
    }
   ],
   "source": [
    "l"
   ]
  },
  {
   "cell_type": "code",
   "execution_count": 101,
   "id": "8b74286f",
   "metadata": {},
   "outputs": [
    {
     "data": {
      "text/plain": [
       "[3, 4.9]"
      ]
     },
     "execution_count": 101,
     "metadata": {},
     "output_type": "execute_result"
    }
   ],
   "source": [
    "l[1:3]"
   ]
  },
  {
   "cell_type": "code",
   "execution_count": 102,
   "id": "89e8d98e",
   "metadata": {},
   "outputs": [
    {
     "data": {
      "text/plain": [
       "[3, 'name', 4.9, 3, 1]"
      ]
     },
     "execution_count": 102,
     "metadata": {},
     "output_type": "execute_result"
    }
   ],
   "source": [
    "l[::-1]"
   ]
  },
  {
   "cell_type": "code",
   "execution_count": 104,
   "id": "f791476c",
   "metadata": {},
   "outputs": [
    {
     "data": {
      "text/plain": [
       "(1, 3, 4.9)"
      ]
     },
     "execution_count": 104,
     "metadata": {},
     "output_type": "execute_result"
    }
   ],
   "source": [
    "t[:3]"
   ]
  },
  {
   "cell_type": "code",
   "execution_count": 105,
   "id": "79327e75",
   "metadata": {},
   "outputs": [
    {
     "data": {
      "text/plain": [
       "[1, 3, 4.9, 'name', 3]"
      ]
     },
     "execution_count": 105,
     "metadata": {},
     "output_type": "execute_result"
    }
   ],
   "source": [
    "l"
   ]
  },
  {
   "cell_type": "code",
   "execution_count": 106,
   "id": "39ab1cd1",
   "metadata": {},
   "outputs": [],
   "source": [
    "l=l+[\"how\",\"are\",6,\"you\"]"
   ]
  },
  {
   "cell_type": "code",
   "execution_count": 107,
   "id": "329e622a",
   "metadata": {},
   "outputs": [
    {
     "data": {
      "text/plain": [
       "[1, 3, 4.9, 'name', 3, 'how', 'are', 6, 'you']"
      ]
     },
     "execution_count": 107,
     "metadata": {},
     "output_type": "execute_result"
    }
   ],
   "source": [
    "l"
   ]
  },
  {
   "cell_type": "code",
   "execution_count": 108,
   "id": "ad1de5a2",
   "metadata": {},
   "outputs": [],
   "source": [
    "l.append(6.8)"
   ]
  },
  {
   "cell_type": "code",
   "execution_count": 109,
   "id": "efe28875",
   "metadata": {},
   "outputs": [
    {
     "data": {
      "text/plain": [
       "[1, 3, 4.9, 'name', 3, 'how', 'are', 6, 'you', 6.8]"
      ]
     },
     "execution_count": 109,
     "metadata": {},
     "output_type": "execute_result"
    }
   ],
   "source": [
    "l"
   ]
  },
  {
   "cell_type": "code",
   "execution_count": 110,
   "id": "18ea1073",
   "metadata": {},
   "outputs": [],
   "source": [
    "t2=('a','b',45)\n",
    "t3=t+t2"
   ]
  },
  {
   "cell_type": "code",
   "execution_count": 111,
   "id": "d619dcd1",
   "metadata": {},
   "outputs": [
    {
     "data": {
      "text/plain": [
       "(1, 3, 4.9, 'name', 3, 'a', 'b', 45)"
      ]
     },
     "execution_count": 111,
     "metadata": {},
     "output_type": "execute_result"
    }
   ],
   "source": [
    "t3"
   ]
  },
  {
   "cell_type": "code",
   "execution_count": 112,
   "id": "a07c2b3d",
   "metadata": {},
   "outputs": [],
   "source": [
    "s.add(56)"
   ]
  },
  {
   "cell_type": "code",
   "execution_count": 113,
   "id": "a952fe75",
   "metadata": {},
   "outputs": [
    {
     "data": {
      "text/plain": [
       "{1, 3, 4.9, 56, 'name'}"
      ]
     },
     "execution_count": 113,
     "metadata": {},
     "output_type": "execute_result"
    }
   ],
   "source": [
    "s"
   ]
  },
  {
   "cell_type": "code",
   "execution_count": 114,
   "id": "982afd81",
   "metadata": {},
   "outputs": [],
   "source": [
    "s.update({23,\"game\",1})"
   ]
  },
  {
   "cell_type": "code",
   "execution_count": 115,
   "id": "23debfd1",
   "metadata": {},
   "outputs": [
    {
     "data": {
      "text/plain": [
       "{1, 23, 3, 4.9, 56, 'game', 'name'}"
      ]
     },
     "execution_count": 115,
     "metadata": {},
     "output_type": "execute_result"
    }
   ],
   "source": [
    "s"
   ]
  },
  {
   "cell_type": "code",
   "execution_count": 116,
   "id": "284b2c11",
   "metadata": {},
   "outputs": [],
   "source": [
    "d['newkey']='newvalue'"
   ]
  },
  {
   "cell_type": "code",
   "execution_count": 117,
   "id": "41c2fbe6",
   "metadata": {},
   "outputs": [
    {
     "data": {
      "text/plain": [
       "{23: 'twothree', 'B': 43, 'c': 'CCCD', 'newkey': 'newvalue'}"
      ]
     },
     "execution_count": 117,
     "metadata": {},
     "output_type": "execute_result"
    }
   ],
   "source": [
    "d"
   ]
  },
  {
   "cell_type": "code",
   "execution_count": 131,
   "id": "0773a8e7",
   "metadata": {},
   "outputs": [],
   "source": [
    "d2={\"y\":\"yy\",1:2}"
   ]
  },
  {
   "cell_type": "code",
   "execution_count": 132,
   "id": "aeb59c6a",
   "metadata": {},
   "outputs": [],
   "source": [
    "d.update(d2)"
   ]
  },
  {
   "cell_type": "code",
   "execution_count": 133,
   "id": "9f70f1a5",
   "metadata": {},
   "outputs": [
    {
     "data": {
      "text/plain": [
       "{23: 'twothree', 'B': 43, 'newkey': 'newvalue', 'y': 'yy', 1: 2}"
      ]
     },
     "execution_count": 133,
     "metadata": {},
     "output_type": "execute_result"
    }
   ],
   "source": [
    "d"
   ]
  },
  {
   "cell_type": "code",
   "execution_count": 128,
   "id": "2b632008",
   "metadata": {},
   "outputs": [
    {
     "data": {
      "text/plain": [
       "[1, 3, 4.9, 3, 'how', 'are', 6, 'you', 6.8]"
      ]
     },
     "execution_count": 128,
     "metadata": {},
     "output_type": "execute_result"
    }
   ],
   "source": [
    "l"
   ]
  },
  {
   "cell_type": "code",
   "execution_count": 129,
   "id": "381631d1",
   "metadata": {},
   "outputs": [],
   "source": [
    "del l[3]"
   ]
  },
  {
   "cell_type": "code",
   "execution_count": 130,
   "id": "c970dcc5",
   "metadata": {},
   "outputs": [
    {
     "data": {
      "text/plain": [
       "[1, 3, 4.9, 'how', 'are', 6, 'you', 6.8]"
      ]
     },
     "execution_count": 130,
     "metadata": {},
     "output_type": "execute_result"
    }
   ],
   "source": [
    "l"
   ]
  },
  {
   "cell_type": "code",
   "execution_count": 121,
   "id": "5c24e6ed",
   "metadata": {},
   "outputs": [
    {
     "data": {
      "text/plain": [
       "{1, 23, 3, 4.9, 56, 'game', 'name'}"
      ]
     },
     "execution_count": 121,
     "metadata": {},
     "output_type": "execute_result"
    }
   ],
   "source": [
    "s"
   ]
  },
  {
   "cell_type": "code",
   "execution_count": 122,
   "id": "e4985bdc",
   "metadata": {},
   "outputs": [],
   "source": [
    "s.remove(\"game\")"
   ]
  },
  {
   "cell_type": "code",
   "execution_count": 123,
   "id": "1f08c74f",
   "metadata": {},
   "outputs": [
    {
     "data": {
      "text/plain": [
       "{1, 23, 3, 4.9, 56, 'name'}"
      ]
     },
     "execution_count": 123,
     "metadata": {},
     "output_type": "execute_result"
    }
   ],
   "source": [
    "s"
   ]
  },
  {
   "cell_type": "code",
   "execution_count": 124,
   "id": "ace808bf",
   "metadata": {},
   "outputs": [
    {
     "data": {
      "text/plain": [
       "{23: 'twothree', 'B': 43, 'c': 'CCCD', 'newkey': 'newvalue'}"
      ]
     },
     "execution_count": 124,
     "metadata": {},
     "output_type": "execute_result"
    }
   ],
   "source": [
    "d"
   ]
  },
  {
   "cell_type": "code",
   "execution_count": 126,
   "id": "1b7d1d8b",
   "metadata": {},
   "outputs": [],
   "source": [
    "del d[\"c\"]"
   ]
  },
  {
   "cell_type": "code",
   "execution_count": 127,
   "id": "27b16847",
   "metadata": {},
   "outputs": [
    {
     "data": {
      "text/plain": [
       "{23: 'twothree', 'B': 43, 'newkey': 'newvalue'}"
      ]
     },
     "execution_count": 127,
     "metadata": {},
     "output_type": "execute_result"
    }
   ],
   "source": [
    "d"
   ]
  },
  {
   "cell_type": "code",
   "execution_count": 134,
   "id": "74ce509e",
   "metadata": {},
   "outputs": [
    {
     "data": {
      "text/plain": [
       "[1, 3, 4.9, 'how', 'are', 6, 'you', 6.8]"
      ]
     },
     "execution_count": 134,
     "metadata": {},
     "output_type": "execute_result"
    }
   ],
   "source": [
    "l"
   ]
  },
  {
   "cell_type": "code",
   "execution_count": 135,
   "id": "f7acdc25",
   "metadata": {},
   "outputs": [],
   "source": [
    "l2=l"
   ]
  },
  {
   "cell_type": "code",
   "execution_count": 136,
   "id": "06b23c35",
   "metadata": {
    "scrolled": true
   },
   "outputs": [
    {
     "data": {
      "text/plain": [
       "[1, 3, 4.9, 'how', 'are', 6, 'you', 6.8]"
      ]
     },
     "execution_count": 136,
     "metadata": {},
     "output_type": "execute_result"
    }
   ],
   "source": [
    "l2"
   ]
  },
  {
   "cell_type": "code",
   "execution_count": 137,
   "id": "ba298c7f",
   "metadata": {},
   "outputs": [],
   "source": [
    "l2[2]=\"four point nine\""
   ]
  },
  {
   "cell_type": "code",
   "execution_count": 138,
   "id": "0f36eedb",
   "metadata": {},
   "outputs": [
    {
     "data": {
      "text/plain": [
       "[1, 3, 'four point nine', 'how', 'are', 6, 'you', 6.8]"
      ]
     },
     "execution_count": 138,
     "metadata": {},
     "output_type": "execute_result"
    }
   ],
   "source": [
    "l2"
   ]
  },
  {
   "cell_type": "code",
   "execution_count": 139,
   "id": "2416d6f9",
   "metadata": {},
   "outputs": [
    {
     "data": {
      "text/plain": [
       "[1, 3, 'four point nine', 'how', 'are', 6, 'you', 6.8]"
      ]
     },
     "execution_count": 139,
     "metadata": {},
     "output_type": "execute_result"
    }
   ],
   "source": [
    "l"
   ]
  },
  {
   "cell_type": "code",
   "execution_count": 140,
   "id": "101ba976",
   "metadata": {},
   "outputs": [],
   "source": [
    "l2=l.copy()"
   ]
  },
  {
   "cell_type": "code",
   "execution_count": 141,
   "id": "0d9266b6",
   "metadata": {},
   "outputs": [
    {
     "data": {
      "text/plain": [
       "[1, 3, 'four point nine', 'how', 'are', 6, 'you', 6.8]"
      ]
     },
     "execution_count": 141,
     "metadata": {},
     "output_type": "execute_result"
    }
   ],
   "source": [
    "l2"
   ]
  },
  {
   "cell_type": "code",
   "execution_count": 142,
   "id": "1e27c5be",
   "metadata": {},
   "outputs": [],
   "source": [
    "l2[2]=4.9"
   ]
  },
  {
   "cell_type": "code",
   "execution_count": 143,
   "id": "1ba9961a",
   "metadata": {},
   "outputs": [
    {
     "data": {
      "text/plain": [
       "[1, 3, 4.9, 'how', 'are', 6, 'you', 6.8]"
      ]
     },
     "execution_count": 143,
     "metadata": {},
     "output_type": "execute_result"
    }
   ],
   "source": [
    "l2"
   ]
  },
  {
   "cell_type": "code",
   "execution_count": 144,
   "id": "2f21a5aa",
   "metadata": {},
   "outputs": [
    {
     "data": {
      "text/plain": [
       "[1, 3, 'four point nine', 'how', 'are', 6, 'you', 6.8]"
      ]
     },
     "execution_count": 144,
     "metadata": {},
     "output_type": "execute_result"
    }
   ],
   "source": [
    "l"
   ]
  },
  {
   "cell_type": "code",
   "execution_count": 145,
   "id": "9f0cba10",
   "metadata": {},
   "outputs": [],
   "source": [
    "l3=l[1:5]"
   ]
  },
  {
   "cell_type": "code",
   "execution_count": 146,
   "id": "4081ee54",
   "metadata": {},
   "outputs": [
    {
     "data": {
      "text/plain": [
       "[3, 'four point nine', 'how', 'are']"
      ]
     },
     "execution_count": 146,
     "metadata": {},
     "output_type": "execute_result"
    }
   ],
   "source": [
    "l3"
   ]
  },
  {
   "cell_type": "code",
   "execution_count": 147,
   "id": "9c9c55f8",
   "metadata": {},
   "outputs": [],
   "source": [
    "l3[0]=\"three\""
   ]
  },
  {
   "cell_type": "code",
   "execution_count": 148,
   "id": "8d41c66d",
   "metadata": {},
   "outputs": [
    {
     "data": {
      "text/plain": [
       "['three', 'four point nine', 'how', 'are']"
      ]
     },
     "execution_count": 148,
     "metadata": {},
     "output_type": "execute_result"
    }
   ],
   "source": [
    "l3"
   ]
  },
  {
   "cell_type": "code",
   "execution_count": 149,
   "id": "036abd8b",
   "metadata": {},
   "outputs": [
    {
     "data": {
      "text/plain": [
       "[1, 3, 'four point nine', 'how', 'are', 6, 'you', 6.8]"
      ]
     },
     "execution_count": 149,
     "metadata": {},
     "output_type": "execute_result"
    }
   ],
   "source": [
    "l"
   ]
  },
  {
   "cell_type": "code",
   "execution_count": 150,
   "id": "b4f46c02",
   "metadata": {},
   "outputs": [],
   "source": [
    "l.append?"
   ]
  },
  {
   "cell_type": "code",
   "execution_count": 151,
   "id": "0d257f63",
   "metadata": {},
   "outputs": [],
   "source": [
    "l.clear?"
   ]
  },
  {
   "cell_type": "code",
   "execution_count": 152,
   "id": "e937c8d3",
   "metadata": {},
   "outputs": [],
   "source": [
    "l.pop?"
   ]
  },
  {
   "cell_type": "code",
   "execution_count": 153,
   "id": "3ac05d85",
   "metadata": {},
   "outputs": [],
   "source": [
    "l.reverse()"
   ]
  },
  {
   "cell_type": "code",
   "execution_count": 154,
   "id": "074257d3",
   "metadata": {},
   "outputs": [
    {
     "data": {
      "text/plain": [
       "[6.8, 'you', 6, 'are', 'how', 'four point nine', 3, 1]"
      ]
     },
     "execution_count": 154,
     "metadata": {},
     "output_type": "execute_result"
    }
   ],
   "source": [
    "l"
   ]
  },
  {
   "cell_type": "code",
   "execution_count": 155,
   "id": "30095174",
   "metadata": {},
   "outputs": [
    {
     "data": {
      "text/plain": [
       "[1, 3, 'four point nine', 'how', 'are', 6, 'you', 6.8]"
      ]
     },
     "execution_count": 155,
     "metadata": {},
     "output_type": "execute_result"
    }
   ],
   "source": [
    "l[::-1]"
   ]
  },
  {
   "cell_type": "code",
   "execution_count": 156,
   "id": "865a4b7c",
   "metadata": {},
   "outputs": [
    {
     "data": {
      "text/plain": [
       "dict_items([(23, 'twothree'), ('B', 43), ('newkey', 'newvalue'), ('y', 'yy'), (1, 2)])"
      ]
     },
     "execution_count": 156,
     "metadata": {},
     "output_type": "execute_result"
    }
   ],
   "source": [
    "d.items()"
   ]
  },
  {
   "cell_type": "code",
   "execution_count": 157,
   "id": "9e6a0d3e",
   "metadata": {},
   "outputs": [
    {
     "data": {
      "text/plain": [
       "[6.8, 'you', 6, 'are', 'how', 'four point nine', 3, 1]"
      ]
     },
     "execution_count": 157,
     "metadata": {},
     "output_type": "execute_result"
    }
   ],
   "source": [
    "l"
   ]
  },
  {
   "cell_type": "code",
   "execution_count": 158,
   "id": "9a6ff85a",
   "metadata": {},
   "outputs": [
    {
     "data": {
      "text/plain": [
       "(1, 3, 4.9, 'name', 3)"
      ]
     },
     "execution_count": 158,
     "metadata": {},
     "output_type": "execute_result"
    }
   ],
   "source": [
    "t"
   ]
  },
  {
   "cell_type": "code",
   "execution_count": 159,
   "id": "20771927",
   "metadata": {},
   "outputs": [
    {
     "data": {
      "text/plain": [
       "{1, 23, 3, 4.9, 56, 'name'}"
      ]
     },
     "execution_count": 159,
     "metadata": {},
     "output_type": "execute_result"
    }
   ],
   "source": [
    "s"
   ]
  },
  {
   "cell_type": "code",
   "execution_count": 160,
   "id": "d497b9de",
   "metadata": {},
   "outputs": [
    {
     "data": {
      "text/plain": [
       "{23: 'twothree', 'B': 43, 'newkey': 'newvalue', 'y': 'yy', 1: 2}"
      ]
     },
     "execution_count": 160,
     "metadata": {},
     "output_type": "execute_result"
    }
   ],
   "source": [
    "d"
   ]
  },
  {
   "cell_type": "code",
   "execution_count": 161,
   "id": "adae38a4",
   "metadata": {},
   "outputs": [],
   "source": [
    "d2={\"A\":l,\"B\":t,\"C\":s,\"D\":d}"
   ]
  },
  {
   "cell_type": "code",
   "execution_count": 162,
   "id": "6fe7002a",
   "metadata": {},
   "outputs": [
    {
     "data": {
      "text/plain": [
       "[6.8, 'you', 6, 'are', 'how', 'four point nine', 3, 1]"
      ]
     },
     "execution_count": 162,
     "metadata": {},
     "output_type": "execute_result"
    }
   ],
   "source": [
    "d2[\"A\"]"
   ]
  },
  {
   "cell_type": "code",
   "execution_count": 163,
   "id": "dc3c88d2",
   "metadata": {},
   "outputs": [
    {
     "data": {
      "text/plain": [
       "'are'"
      ]
     },
     "execution_count": 163,
     "metadata": {},
     "output_type": "execute_result"
    }
   ],
   "source": [
    "d2[\"A\"][3]"
   ]
  },
  {
   "cell_type": "code",
   "execution_count": 164,
   "id": "028c1b5c",
   "metadata": {},
   "outputs": [],
   "source": [
    "k=d2['D']"
   ]
  },
  {
   "cell_type": "code",
   "execution_count": 165,
   "id": "a4496a70",
   "metadata": {},
   "outputs": [
    {
     "data": {
      "text/plain": [
       "{23: 'twothree', 'B': 43, 'newkey': 'newvalue', 'y': 'yy', 1: 2}"
      ]
     },
     "execution_count": 165,
     "metadata": {},
     "output_type": "execute_result"
    }
   ],
   "source": [
    "k"
   ]
  },
  {
   "cell_type": "code",
   "execution_count": 166,
   "id": "1a368e5c",
   "metadata": {},
   "outputs": [
    {
     "name": "stdout",
     "output_type": "stream",
     "text": [
      "23 twothree\n",
      "B 43\n",
      "newkey newvalue\n",
      "y yy\n",
      "1 2\n"
     ]
    }
   ],
   "source": [
    "for x in k:\n",
    "    print(x,k[x])"
   ]
  },
  {
   "cell_type": "code",
   "execution_count": 167,
   "id": "138ba6cf",
   "metadata": {},
   "outputs": [],
   "source": [
    "l3=[l,t,d,23,\"game\"]"
   ]
  },
  {
   "cell_type": "code",
   "execution_count": 168,
   "id": "87134d37",
   "metadata": {},
   "outputs": [
    {
     "data": {
      "text/plain": [
       "dict"
      ]
     },
     "execution_count": 168,
     "metadata": {},
     "output_type": "execute_result"
    }
   ],
   "source": [
    "type(l3[2])"
   ]
  },
  {
   "cell_type": "code",
   "execution_count": 169,
   "id": "9ae22904",
   "metadata": {},
   "outputs": [],
   "source": [
    "l3=[x**2 for x in range(10)]"
   ]
  },
  {
   "cell_type": "code",
   "execution_count": 170,
   "id": "56dadaa1",
   "metadata": {},
   "outputs": [
    {
     "data": {
      "text/plain": [
       "[0, 1, 4, 9, 16, 25, 36, 49, 64, 81]"
      ]
     },
     "execution_count": 170,
     "metadata": {},
     "output_type": "execute_result"
    }
   ],
   "source": [
    "l3"
   ]
  },
  {
   "cell_type": "code",
   "execution_count": 172,
   "id": "5da1bf96",
   "metadata": {},
   "outputs": [],
   "source": [
    "s3={x**2 for x in range(2,20,3)}"
   ]
  },
  {
   "cell_type": "code",
   "execution_count": 173,
   "id": "3baaa16a",
   "metadata": {},
   "outputs": [
    {
     "data": {
      "text/plain": [
       "{4, 25, 64, 121, 196, 289}"
      ]
     },
     "execution_count": 173,
     "metadata": {},
     "output_type": "execute_result"
    }
   ],
   "source": [
    "s3"
   ]
  },
  {
   "cell_type": "code",
   "execution_count": 179,
   "id": "8e344ab1",
   "metadata": {},
   "outputs": [],
   "source": [
    "\"\"\"lets say you are a teacher and you have different student records \n",
    "containing id of a student and the marks list in each subject where different \n",
    "students have taken different number of subjects. All these records are in hard\n",
    "copy. you want all the data in computer and want to compute the average marks of \n",
    "each student and display\"\"\"\n",
    "\n",
    "def getDataFromUser():\n",
    "    d={}\n",
    "    while True:\n",
    "        studentid=input(\"Enter student id\")\n",
    "        marksList = input(\"Enter the marks by comma seprated values\")\n",
    "        moreStudents=input(\"Enter no to stop adding data\")\n",
    "        if(studentid in d):\n",
    "            print(studentid,\" is already inserted\")\n",
    "        else:\n",
    "            d[studentid]=marksList.split(\",\")\n",
    "        if(moreStudents.lower()==\"no\"):\n",
    "            return d"
   ]
  },
  {
   "cell_type": "code",
   "execution_count": 180,
   "id": "1b953cd8",
   "metadata": {},
   "outputs": [
    {
     "name": "stdout",
     "output_type": "stream",
     "text": [
      "Enter student id12\n",
      "Enter the marks by comma seprated values56,45,13\n",
      "Enter yes/no for adding more studentssdfvfs\n",
      "Enter student id45\n",
      "Enter the marks by comma seprated values44,55,66,77,4\n",
      "Enter yes/no for adding more studentsfsfd\n",
      "Enter student id12\n",
      "Enter the marks by comma seprated values45,45\n",
      "Enter yes/no for adding more studentsfhhgf\n",
      "12  is already inserted\n",
      "Enter student id23\n",
      "Enter the marks by comma seprated values45\n",
      "Enter yes/no for adding more studentsno\n"
     ]
    }
   ],
   "source": [
    "studentData=getDataFromUser()"
   ]
  },
  {
   "cell_type": "code",
   "execution_count": 181,
   "id": "465f2f85",
   "metadata": {},
   "outputs": [
    {
     "data": {
      "text/plain": [
       "{'12': ['56', '45', '13'], '45': ['44', '55', '66', '77', '4'], '23': ['45']}"
      ]
     },
     "execution_count": 181,
     "metadata": {},
     "output_type": "execute_result"
    }
   ],
   "source": [
    "studentData"
   ]
  },
  {
   "cell_type": "code",
   "execution_count": 191,
   "id": "e6b5b5c5",
   "metadata": {},
   "outputs": [],
   "source": [
    "def getAvgMarks(d):\n",
    "    avgMarks={}\n",
    "    for x in d:\n",
    "        l=d[x]\n",
    "        s=0\n",
    "        for marks in l:\n",
    "            s+=int(marks)\n",
    "        avgMarks[x]=s/len(l)\n",
    "    return avgMarks"
   ]
  },
  {
   "cell_type": "code",
   "execution_count": 192,
   "id": "d12739dd",
   "metadata": {},
   "outputs": [],
   "source": [
    "avgM=getAvgMarks(studentData)"
   ]
  },
  {
   "cell_type": "code",
   "execution_count": 193,
   "id": "48302644",
   "metadata": {},
   "outputs": [
    {
     "name": "stdout",
     "output_type": "stream",
     "text": [
      "Student : 12 got avg marks of 38.0\n",
      "Student : 45 got avg marks of 49.2\n",
      "Student : 23 got avg marks of 45.0\n"
     ]
    }
   ],
   "source": [
    "for x in avgM:\n",
    "    print(\"Student :\",x,\"got avg marks of\",avgM[x])"
   ]
  }
 ],
 "metadata": {
  "kernelspec": {
   "display_name": "Python 3 (ipykernel)",
   "language": "python",
   "name": "python3"
  },
  "language_info": {
   "codemirror_mode": {
    "name": "ipython",
    "version": 3
   },
   "file_extension": ".py",
   "mimetype": "text/x-python",
   "name": "python",
   "nbconvert_exporter": "python",
   "pygments_lexer": "ipython3",
   "version": "3.9.7"
  }
 },
 "nbformat": 4,
 "nbformat_minor": 5
}
